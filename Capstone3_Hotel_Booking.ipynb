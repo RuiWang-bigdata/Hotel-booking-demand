{
  "nbformat": 4,
  "nbformat_minor": 0,
  "metadata": {
    "colab": {
      "name": "Capstone3-Hotel Booking.ipynb",
      "provenance": [],
      "collapsed_sections": [
        "JRjrySCf0lE_",
        "7sVRy0_b0-Cu",
        "skbSJJHD4eGl",
        "YyYNPs6K75O0",
        "K4u71QQ_7lSF",
        "1flsXRwUQ3FV",
        "ojMTUasrdYyr"
      ]
    },
    "kernelspec": {
      "name": "python3",
      "display_name": "Python 3"
    }
  },
  "cells": [
    {
      "cell_type": "markdown",
      "metadata": {
        "id": "S56K0MmU0hLk"
      },
      "source": [
        "## Import Modules"
      ]
    },
    {
      "cell_type": "code",
      "metadata": {
        "id": "1ph-XYvPkXym"
      },
      "source": [
        "# Import & alias modules\n",
        "import math\n",
        "import pandas as pd\n",
        "from scipy import stats\n",
        "import seaborn as sns \n",
        "import matplotlib.pyplot as plt\n",
        "sns.set()\n",
        "sns.set_style(\"darkgrid\") \n",
        "import statsmodels.api as sm\n",
        "import numpy as np\n",
        "import scipy.stats"
      ],
      "execution_count": null,
      "outputs": []
    },
    {
      "cell_type": "markdown",
      "metadata": {
        "id": "JRjrySCf0lE_"
      },
      "source": [
        "## Bringing in the Dataset\n",
        "https://github.com/RuiWang-bigdata/Hotel-booking-demand"
      ]
    },
    {
      "cell_type": "code",
      "metadata": {
        "id": "c8qrvUDrkdgc"
      },
      "source": [
        "# Read data from GitHub\n",
        "df = pd.read_csv(\"https://raw.githubusercontent.com/RuiWang-bigdata/Hotel-booking-demand/main/hotel_bookings.csv\")\n",
        "\n",
        "# Familiar with my datasets\n",
        "# df.info()\n",
        "\n",
        "\n",
        "\n",
        "df[\"id\"] = df.index + 1\n",
        "#Due to this dataframe has no unique ID for each observation. So giveing each observation a unique ID. "
      ],
      "execution_count": null,
      "outputs": []
    },
    {
      "cell_type": "code",
      "metadata": {
        "id": "OJuOZbuN0uFM",
        "colab": {
          "base_uri": "https://localhost:8080/"
        },
        "outputId": "8a27e539-74fe-4b0f-b810-ccf71573594e"
      },
      "source": [
        "df.head(12)"
      ],
      "execution_count": null,
      "outputs": [
        {
          "output_type": "execute_result",
          "data": {
            "text/html": [
              "<div>\n",
              "<style scoped>\n",
              "    .dataframe tbody tr th:only-of-type {\n",
              "        vertical-align: middle;\n",
              "    }\n",
              "\n",
              "    .dataframe tbody tr th {\n",
              "        vertical-align: top;\n",
              "    }\n",
              "\n",
              "    .dataframe thead th {\n",
              "        text-align: right;\n",
              "    }\n",
              "</style>\n",
              "<table border=\"1\" class=\"dataframe\">\n",
              "  <thead>\n",
              "    <tr style=\"text-align: right;\">\n",
              "      <th></th>\n",
              "      <th>hotel</th>\n",
              "      <th>is_canceled</th>\n",
              "      <th>lead_time</th>\n",
              "      <th>arrival_date_year</th>\n",
              "      <th>arrival_date_month</th>\n",
              "      <th>arrival_date_week_number</th>\n",
              "      <th>arrival_date_day_of_month</th>\n",
              "      <th>stays_in_weekend_nights</th>\n",
              "      <th>stays_in_week_nights</th>\n",
              "      <th>adults</th>\n",
              "      <th>children</th>\n",
              "      <th>babies</th>\n",
              "      <th>meal</th>\n",
              "      <th>country</th>\n",
              "      <th>market_segment</th>\n",
              "      <th>distribution_channel</th>\n",
              "      <th>is_repeated_guest</th>\n",
              "      <th>previous_cancellations</th>\n",
              "      <th>previous_bookings_not_canceled</th>\n",
              "      <th>reserved_room_type</th>\n",
              "      <th>assigned_room_type</th>\n",
              "      <th>booking_changes</th>\n",
              "      <th>deposit_type</th>\n",
              "      <th>agent</th>\n",
              "      <th>company</th>\n",
              "      <th>days_in_waiting_list</th>\n",
              "      <th>customer_type</th>\n",
              "      <th>adr</th>\n",
              "      <th>required_car_parking_spaces</th>\n",
              "      <th>total_of_special_requests</th>\n",
              "      <th>reservation_status</th>\n",
              "      <th>reservation_status_date</th>\n",
              "      <th>id</th>\n",
              "    </tr>\n",
              "  </thead>\n",
              "  <tbody>\n",
              "    <tr>\n",
              "      <th>0</th>\n",
              "      <td>Resort Hotel</td>\n",
              "      <td>0</td>\n",
              "      <td>342</td>\n",
              "      <td>2015</td>\n",
              "      <td>July</td>\n",
              "      <td>27</td>\n",
              "      <td>1</td>\n",
              "      <td>0</td>\n",
              "      <td>0</td>\n",
              "      <td>2</td>\n",
              "      <td>0.0</td>\n",
              "      <td>0</td>\n",
              "      <td>BB</td>\n",
              "      <td>PRT</td>\n",
              "      <td>Direct</td>\n",
              "      <td>Direct</td>\n",
              "      <td>0</td>\n",
              "      <td>0</td>\n",
              "      <td>0</td>\n",
              "      <td>C</td>\n",
              "      <td>C</td>\n",
              "      <td>3</td>\n",
              "      <td>No Deposit</td>\n",
              "      <td>NaN</td>\n",
              "      <td>NaN</td>\n",
              "      <td>0</td>\n",
              "      <td>Transient</td>\n",
              "      <td>0.0</td>\n",
              "      <td>0</td>\n",
              "      <td>0</td>\n",
              "      <td>Check-Out</td>\n",
              "      <td>2015-07-01</td>\n",
              "      <td>1</td>\n",
              "    </tr>\n",
              "    <tr>\n",
              "      <th>1</th>\n",
              "      <td>Resort Hotel</td>\n",
              "      <td>0</td>\n",
              "      <td>737</td>\n",
              "      <td>2015</td>\n",
              "      <td>July</td>\n",
              "      <td>27</td>\n",
              "      <td>1</td>\n",
              "      <td>0</td>\n",
              "      <td>0</td>\n",
              "      <td>2</td>\n",
              "      <td>0.0</td>\n",
              "      <td>0</td>\n",
              "      <td>BB</td>\n",
              "      <td>PRT</td>\n",
              "      <td>Direct</td>\n",
              "      <td>Direct</td>\n",
              "      <td>0</td>\n",
              "      <td>0</td>\n",
              "      <td>0</td>\n",
              "      <td>C</td>\n",
              "      <td>C</td>\n",
              "      <td>4</td>\n",
              "      <td>No Deposit</td>\n",
              "      <td>NaN</td>\n",
              "      <td>NaN</td>\n",
              "      <td>0</td>\n",
              "      <td>Transient</td>\n",
              "      <td>0.0</td>\n",
              "      <td>0</td>\n",
              "      <td>0</td>\n",
              "      <td>Check-Out</td>\n",
              "      <td>2015-07-01</td>\n",
              "      <td>2</td>\n",
              "    </tr>\n",
              "    <tr>\n",
              "      <th>2</th>\n",
              "      <td>Resort Hotel</td>\n",
              "      <td>0</td>\n",
              "      <td>7</td>\n",
              "      <td>2015</td>\n",
              "      <td>July</td>\n",
              "      <td>27</td>\n",
              "      <td>1</td>\n",
              "      <td>0</td>\n",
              "      <td>1</td>\n",
              "      <td>1</td>\n",
              "      <td>0.0</td>\n",
              "      <td>0</td>\n",
              "      <td>BB</td>\n",
              "      <td>GBR</td>\n",
              "      <td>Direct</td>\n",
              "      <td>Direct</td>\n",
              "      <td>0</td>\n",
              "      <td>0</td>\n",
              "      <td>0</td>\n",
              "      <td>A</td>\n",
              "      <td>C</td>\n",
              "      <td>0</td>\n",
              "      <td>No Deposit</td>\n",
              "      <td>NaN</td>\n",
              "      <td>NaN</td>\n",
              "      <td>0</td>\n",
              "      <td>Transient</td>\n",
              "      <td>75.0</td>\n",
              "      <td>0</td>\n",
              "      <td>0</td>\n",
              "      <td>Check-Out</td>\n",
              "      <td>2015-07-02</td>\n",
              "      <td>3</td>\n",
              "    </tr>\n",
              "    <tr>\n",
              "      <th>3</th>\n",
              "      <td>Resort Hotel</td>\n",
              "      <td>0</td>\n",
              "      <td>13</td>\n",
              "      <td>2015</td>\n",
              "      <td>July</td>\n",
              "      <td>27</td>\n",
              "      <td>1</td>\n",
              "      <td>0</td>\n",
              "      <td>1</td>\n",
              "      <td>1</td>\n",
              "      <td>0.0</td>\n",
              "      <td>0</td>\n",
              "      <td>BB</td>\n",
              "      <td>GBR</td>\n",
              "      <td>Corporate</td>\n",
              "      <td>Corporate</td>\n",
              "      <td>0</td>\n",
              "      <td>0</td>\n",
              "      <td>0</td>\n",
              "      <td>A</td>\n",
              "      <td>A</td>\n",
              "      <td>0</td>\n",
              "      <td>No Deposit</td>\n",
              "      <td>304.0</td>\n",
              "      <td>NaN</td>\n",
              "      <td>0</td>\n",
              "      <td>Transient</td>\n",
              "      <td>75.0</td>\n",
              "      <td>0</td>\n",
              "      <td>0</td>\n",
              "      <td>Check-Out</td>\n",
              "      <td>2015-07-02</td>\n",
              "      <td>4</td>\n",
              "    </tr>\n",
              "    <tr>\n",
              "      <th>4</th>\n",
              "      <td>Resort Hotel</td>\n",
              "      <td>0</td>\n",
              "      <td>14</td>\n",
              "      <td>2015</td>\n",
              "      <td>July</td>\n",
              "      <td>27</td>\n",
              "      <td>1</td>\n",
              "      <td>0</td>\n",
              "      <td>2</td>\n",
              "      <td>2</td>\n",
              "      <td>0.0</td>\n",
              "      <td>0</td>\n",
              "      <td>BB</td>\n",
              "      <td>GBR</td>\n",
              "      <td>Online TA</td>\n",
              "      <td>TA/TO</td>\n",
              "      <td>0</td>\n",
              "      <td>0</td>\n",
              "      <td>0</td>\n",
              "      <td>A</td>\n",
              "      <td>A</td>\n",
              "      <td>0</td>\n",
              "      <td>No Deposit</td>\n",
              "      <td>240.0</td>\n",
              "      <td>NaN</td>\n",
              "      <td>0</td>\n",
              "      <td>Transient</td>\n",
              "      <td>98.0</td>\n",
              "      <td>0</td>\n",
              "      <td>1</td>\n",
              "      <td>Check-Out</td>\n",
              "      <td>2015-07-03</td>\n",
              "      <td>5</td>\n",
              "    </tr>\n",
              "    <tr>\n",
              "      <th>5</th>\n",
              "      <td>Resort Hotel</td>\n",
              "      <td>0</td>\n",
              "      <td>14</td>\n",
              "      <td>2015</td>\n",
              "      <td>July</td>\n",
              "      <td>27</td>\n",
              "      <td>1</td>\n",
              "      <td>0</td>\n",
              "      <td>2</td>\n",
              "      <td>2</td>\n",
              "      <td>0.0</td>\n",
              "      <td>0</td>\n",
              "      <td>BB</td>\n",
              "      <td>GBR</td>\n",
              "      <td>Online TA</td>\n",
              "      <td>TA/TO</td>\n",
              "      <td>0</td>\n",
              "      <td>0</td>\n",
              "      <td>0</td>\n",
              "      <td>A</td>\n",
              "      <td>A</td>\n",
              "      <td>0</td>\n",
              "      <td>No Deposit</td>\n",
              "      <td>240.0</td>\n",
              "      <td>NaN</td>\n",
              "      <td>0</td>\n",
              "      <td>Transient</td>\n",
              "      <td>98.0</td>\n",
              "      <td>0</td>\n",
              "      <td>1</td>\n",
              "      <td>Check-Out</td>\n",
              "      <td>2015-07-03</td>\n",
              "      <td>6</td>\n",
              "    </tr>\n",
              "    <tr>\n",
              "      <th>6</th>\n",
              "      <td>Resort Hotel</td>\n",
              "      <td>0</td>\n",
              "      <td>0</td>\n",
              "      <td>2015</td>\n",
              "      <td>July</td>\n",
              "      <td>27</td>\n",
              "      <td>1</td>\n",
              "      <td>0</td>\n",
              "      <td>2</td>\n",
              "      <td>2</td>\n",
              "      <td>0.0</td>\n",
              "      <td>0</td>\n",
              "      <td>BB</td>\n",
              "      <td>PRT</td>\n",
              "      <td>Direct</td>\n",
              "      <td>Direct</td>\n",
              "      <td>0</td>\n",
              "      <td>0</td>\n",
              "      <td>0</td>\n",
              "      <td>C</td>\n",
              "      <td>C</td>\n",
              "      <td>0</td>\n",
              "      <td>No Deposit</td>\n",
              "      <td>NaN</td>\n",
              "      <td>NaN</td>\n",
              "      <td>0</td>\n",
              "      <td>Transient</td>\n",
              "      <td>107.0</td>\n",
              "      <td>0</td>\n",
              "      <td>0</td>\n",
              "      <td>Check-Out</td>\n",
              "      <td>2015-07-03</td>\n",
              "      <td>7</td>\n",
              "    </tr>\n",
              "    <tr>\n",
              "      <th>7</th>\n",
              "      <td>Resort Hotel</td>\n",
              "      <td>0</td>\n",
              "      <td>9</td>\n",
              "      <td>2015</td>\n",
              "      <td>July</td>\n",
              "      <td>27</td>\n",
              "      <td>1</td>\n",
              "      <td>0</td>\n",
              "      <td>2</td>\n",
              "      <td>2</td>\n",
              "      <td>0.0</td>\n",
              "      <td>0</td>\n",
              "      <td>FB</td>\n",
              "      <td>PRT</td>\n",
              "      <td>Direct</td>\n",
              "      <td>Direct</td>\n",
              "      <td>0</td>\n",
              "      <td>0</td>\n",
              "      <td>0</td>\n",
              "      <td>C</td>\n",
              "      <td>C</td>\n",
              "      <td>0</td>\n",
              "      <td>No Deposit</td>\n",
              "      <td>303.0</td>\n",
              "      <td>NaN</td>\n",
              "      <td>0</td>\n",
              "      <td>Transient</td>\n",
              "      <td>103.0</td>\n",
              "      <td>0</td>\n",
              "      <td>1</td>\n",
              "      <td>Check-Out</td>\n",
              "      <td>2015-07-03</td>\n",
              "      <td>8</td>\n",
              "    </tr>\n",
              "    <tr>\n",
              "      <th>8</th>\n",
              "      <td>Resort Hotel</td>\n",
              "      <td>1</td>\n",
              "      <td>85</td>\n",
              "      <td>2015</td>\n",
              "      <td>July</td>\n",
              "      <td>27</td>\n",
              "      <td>1</td>\n",
              "      <td>0</td>\n",
              "      <td>3</td>\n",
              "      <td>2</td>\n",
              "      <td>0.0</td>\n",
              "      <td>0</td>\n",
              "      <td>BB</td>\n",
              "      <td>PRT</td>\n",
              "      <td>Online TA</td>\n",
              "      <td>TA/TO</td>\n",
              "      <td>0</td>\n",
              "      <td>0</td>\n",
              "      <td>0</td>\n",
              "      <td>A</td>\n",
              "      <td>A</td>\n",
              "      <td>0</td>\n",
              "      <td>No Deposit</td>\n",
              "      <td>240.0</td>\n",
              "      <td>NaN</td>\n",
              "      <td>0</td>\n",
              "      <td>Transient</td>\n",
              "      <td>82.0</td>\n",
              "      <td>0</td>\n",
              "      <td>1</td>\n",
              "      <td>Canceled</td>\n",
              "      <td>2015-05-06</td>\n",
              "      <td>9</td>\n",
              "    </tr>\n",
              "    <tr>\n",
              "      <th>9</th>\n",
              "      <td>Resort Hotel</td>\n",
              "      <td>1</td>\n",
              "      <td>75</td>\n",
              "      <td>2015</td>\n",
              "      <td>July</td>\n",
              "      <td>27</td>\n",
              "      <td>1</td>\n",
              "      <td>0</td>\n",
              "      <td>3</td>\n",
              "      <td>2</td>\n",
              "      <td>0.0</td>\n",
              "      <td>0</td>\n",
              "      <td>HB</td>\n",
              "      <td>PRT</td>\n",
              "      <td>Offline TA/TO</td>\n",
              "      <td>TA/TO</td>\n",
              "      <td>0</td>\n",
              "      <td>0</td>\n",
              "      <td>0</td>\n",
              "      <td>D</td>\n",
              "      <td>D</td>\n",
              "      <td>0</td>\n",
              "      <td>No Deposit</td>\n",
              "      <td>15.0</td>\n",
              "      <td>NaN</td>\n",
              "      <td>0</td>\n",
              "      <td>Transient</td>\n",
              "      <td>105.5</td>\n",
              "      <td>0</td>\n",
              "      <td>0</td>\n",
              "      <td>Canceled</td>\n",
              "      <td>2015-04-22</td>\n",
              "      <td>10</td>\n",
              "    </tr>\n",
              "    <tr>\n",
              "      <th>10</th>\n",
              "      <td>Resort Hotel</td>\n",
              "      <td>1</td>\n",
              "      <td>23</td>\n",
              "      <td>2015</td>\n",
              "      <td>July</td>\n",
              "      <td>27</td>\n",
              "      <td>1</td>\n",
              "      <td>0</td>\n",
              "      <td>4</td>\n",
              "      <td>2</td>\n",
              "      <td>0.0</td>\n",
              "      <td>0</td>\n",
              "      <td>BB</td>\n",
              "      <td>PRT</td>\n",
              "      <td>Online TA</td>\n",
              "      <td>TA/TO</td>\n",
              "      <td>0</td>\n",
              "      <td>0</td>\n",
              "      <td>0</td>\n",
              "      <td>E</td>\n",
              "      <td>E</td>\n",
              "      <td>0</td>\n",
              "      <td>No Deposit</td>\n",
              "      <td>240.0</td>\n",
              "      <td>NaN</td>\n",
              "      <td>0</td>\n",
              "      <td>Transient</td>\n",
              "      <td>123.0</td>\n",
              "      <td>0</td>\n",
              "      <td>0</td>\n",
              "      <td>Canceled</td>\n",
              "      <td>2015-06-23</td>\n",
              "      <td>11</td>\n",
              "    </tr>\n",
              "    <tr>\n",
              "      <th>11</th>\n",
              "      <td>Resort Hotel</td>\n",
              "      <td>0</td>\n",
              "      <td>35</td>\n",
              "      <td>2015</td>\n",
              "      <td>July</td>\n",
              "      <td>27</td>\n",
              "      <td>1</td>\n",
              "      <td>0</td>\n",
              "      <td>4</td>\n",
              "      <td>2</td>\n",
              "      <td>0.0</td>\n",
              "      <td>0</td>\n",
              "      <td>HB</td>\n",
              "      <td>PRT</td>\n",
              "      <td>Online TA</td>\n",
              "      <td>TA/TO</td>\n",
              "      <td>0</td>\n",
              "      <td>0</td>\n",
              "      <td>0</td>\n",
              "      <td>D</td>\n",
              "      <td>D</td>\n",
              "      <td>0</td>\n",
              "      <td>No Deposit</td>\n",
              "      <td>240.0</td>\n",
              "      <td>NaN</td>\n",
              "      <td>0</td>\n",
              "      <td>Transient</td>\n",
              "      <td>145.0</td>\n",
              "      <td>0</td>\n",
              "      <td>0</td>\n",
              "      <td>Check-Out</td>\n",
              "      <td>2015-07-05</td>\n",
              "      <td>12</td>\n",
              "    </tr>\n",
              "  </tbody>\n",
              "</table>\n",
              "</div>"
            ],
            "text/plain": [
              "           hotel  is_canceled  ...  reservation_status_date  id\n",
              "0   Resort Hotel            0  ...               2015-07-01   1\n",
              "1   Resort Hotel            0  ...               2015-07-01   2\n",
              "2   Resort Hotel            0  ...               2015-07-02   3\n",
              "3   Resort Hotel            0  ...               2015-07-02   4\n",
              "4   Resort Hotel            0  ...               2015-07-03   5\n",
              "5   Resort Hotel            0  ...               2015-07-03   6\n",
              "6   Resort Hotel            0  ...               2015-07-03   7\n",
              "7   Resort Hotel            0  ...               2015-07-03   8\n",
              "8   Resort Hotel            1  ...               2015-05-06   9\n",
              "9   Resort Hotel            1  ...               2015-04-22  10\n",
              "10  Resort Hotel            1  ...               2015-06-23  11\n",
              "11  Resort Hotel            0  ...               2015-07-05  12\n",
              "\n",
              "[12 rows x 33 columns]"
            ]
          },
          "metadata": {
            "tags": []
          },
          "execution_count": 55
        }
      ]
    },
    {
      "cell_type": "code",
      "metadata": {
        "id": "AHX_2BzT0znu",
        "colab": {
          "base_uri": "https://localhost:8080/"
        },
        "outputId": "a5e8e3d8-e66e-4b9a-d736-c5c2f6bb52bb"
      },
      "source": [
        "df.describe()"
      ],
      "execution_count": null,
      "outputs": [
        {
          "output_type": "execute_result",
          "data": {
            "text/html": [
              "<div>\n",
              "<style scoped>\n",
              "    .dataframe tbody tr th:only-of-type {\n",
              "        vertical-align: middle;\n",
              "    }\n",
              "\n",
              "    .dataframe tbody tr th {\n",
              "        vertical-align: top;\n",
              "    }\n",
              "\n",
              "    .dataframe thead th {\n",
              "        text-align: right;\n",
              "    }\n",
              "</style>\n",
              "<table border=\"1\" class=\"dataframe\">\n",
              "  <thead>\n",
              "    <tr style=\"text-align: right;\">\n",
              "      <th></th>\n",
              "      <th>is_canceled</th>\n",
              "      <th>lead_time</th>\n",
              "      <th>arrival_date_year</th>\n",
              "      <th>arrival_date_week_number</th>\n",
              "      <th>arrival_date_day_of_month</th>\n",
              "      <th>stays_in_weekend_nights</th>\n",
              "      <th>stays_in_week_nights</th>\n",
              "      <th>adults</th>\n",
              "      <th>children</th>\n",
              "      <th>babies</th>\n",
              "      <th>is_repeated_guest</th>\n",
              "      <th>previous_cancellations</th>\n",
              "      <th>previous_bookings_not_canceled</th>\n",
              "      <th>booking_changes</th>\n",
              "      <th>agent</th>\n",
              "      <th>company</th>\n",
              "      <th>days_in_waiting_list</th>\n",
              "      <th>adr</th>\n",
              "      <th>required_car_parking_spaces</th>\n",
              "      <th>total_of_special_requests</th>\n",
              "      <th>id</th>\n",
              "    </tr>\n",
              "  </thead>\n",
              "  <tbody>\n",
              "    <tr>\n",
              "      <th>count</th>\n",
              "      <td>119390.000000</td>\n",
              "      <td>119390.000000</td>\n",
              "      <td>119390.000000</td>\n",
              "      <td>119390.000000</td>\n",
              "      <td>119390.000000</td>\n",
              "      <td>119390.000000</td>\n",
              "      <td>119390.000000</td>\n",
              "      <td>119390.000000</td>\n",
              "      <td>119386.000000</td>\n",
              "      <td>119390.000000</td>\n",
              "      <td>119390.000000</td>\n",
              "      <td>119390.000000</td>\n",
              "      <td>119390.000000</td>\n",
              "      <td>119390.000000</td>\n",
              "      <td>103050.000000</td>\n",
              "      <td>6797.000000</td>\n",
              "      <td>119390.000000</td>\n",
              "      <td>119390.000000</td>\n",
              "      <td>119390.000000</td>\n",
              "      <td>119390.000000</td>\n",
              "      <td>119390.000000</td>\n",
              "    </tr>\n",
              "    <tr>\n",
              "      <th>mean</th>\n",
              "      <td>0.370416</td>\n",
              "      <td>104.011416</td>\n",
              "      <td>2016.156554</td>\n",
              "      <td>27.165173</td>\n",
              "      <td>15.798241</td>\n",
              "      <td>0.927599</td>\n",
              "      <td>2.500302</td>\n",
              "      <td>1.856403</td>\n",
              "      <td>0.103890</td>\n",
              "      <td>0.007949</td>\n",
              "      <td>0.031912</td>\n",
              "      <td>0.087118</td>\n",
              "      <td>0.137097</td>\n",
              "      <td>0.221124</td>\n",
              "      <td>86.693382</td>\n",
              "      <td>189.266735</td>\n",
              "      <td>2.321149</td>\n",
              "      <td>101.831122</td>\n",
              "      <td>0.062518</td>\n",
              "      <td>0.571363</td>\n",
              "      <td>59695.500000</td>\n",
              "    </tr>\n",
              "    <tr>\n",
              "      <th>std</th>\n",
              "      <td>0.482918</td>\n",
              "      <td>106.863097</td>\n",
              "      <td>0.707476</td>\n",
              "      <td>13.605138</td>\n",
              "      <td>8.780829</td>\n",
              "      <td>0.998613</td>\n",
              "      <td>1.908286</td>\n",
              "      <td>0.579261</td>\n",
              "      <td>0.398561</td>\n",
              "      <td>0.097436</td>\n",
              "      <td>0.175767</td>\n",
              "      <td>0.844336</td>\n",
              "      <td>1.497437</td>\n",
              "      <td>0.652306</td>\n",
              "      <td>110.774548</td>\n",
              "      <td>131.655015</td>\n",
              "      <td>17.594721</td>\n",
              "      <td>50.535790</td>\n",
              "      <td>0.245291</td>\n",
              "      <td>0.792798</td>\n",
              "      <td>34465.068657</td>\n",
              "    </tr>\n",
              "    <tr>\n",
              "      <th>min</th>\n",
              "      <td>0.000000</td>\n",
              "      <td>0.000000</td>\n",
              "      <td>2015.000000</td>\n",
              "      <td>1.000000</td>\n",
              "      <td>1.000000</td>\n",
              "      <td>0.000000</td>\n",
              "      <td>0.000000</td>\n",
              "      <td>0.000000</td>\n",
              "      <td>0.000000</td>\n",
              "      <td>0.000000</td>\n",
              "      <td>0.000000</td>\n",
              "      <td>0.000000</td>\n",
              "      <td>0.000000</td>\n",
              "      <td>0.000000</td>\n",
              "      <td>1.000000</td>\n",
              "      <td>6.000000</td>\n",
              "      <td>0.000000</td>\n",
              "      <td>-6.380000</td>\n",
              "      <td>0.000000</td>\n",
              "      <td>0.000000</td>\n",
              "      <td>1.000000</td>\n",
              "    </tr>\n",
              "    <tr>\n",
              "      <th>25%</th>\n",
              "      <td>0.000000</td>\n",
              "      <td>18.000000</td>\n",
              "      <td>2016.000000</td>\n",
              "      <td>16.000000</td>\n",
              "      <td>8.000000</td>\n",
              "      <td>0.000000</td>\n",
              "      <td>1.000000</td>\n",
              "      <td>2.000000</td>\n",
              "      <td>0.000000</td>\n",
              "      <td>0.000000</td>\n",
              "      <td>0.000000</td>\n",
              "      <td>0.000000</td>\n",
              "      <td>0.000000</td>\n",
              "      <td>0.000000</td>\n",
              "      <td>9.000000</td>\n",
              "      <td>62.000000</td>\n",
              "      <td>0.000000</td>\n",
              "      <td>69.290000</td>\n",
              "      <td>0.000000</td>\n",
              "      <td>0.000000</td>\n",
              "      <td>29848.250000</td>\n",
              "    </tr>\n",
              "    <tr>\n",
              "      <th>50%</th>\n",
              "      <td>0.000000</td>\n",
              "      <td>69.000000</td>\n",
              "      <td>2016.000000</td>\n",
              "      <td>28.000000</td>\n",
              "      <td>16.000000</td>\n",
              "      <td>1.000000</td>\n",
              "      <td>2.000000</td>\n",
              "      <td>2.000000</td>\n",
              "      <td>0.000000</td>\n",
              "      <td>0.000000</td>\n",
              "      <td>0.000000</td>\n",
              "      <td>0.000000</td>\n",
              "      <td>0.000000</td>\n",
              "      <td>0.000000</td>\n",
              "      <td>14.000000</td>\n",
              "      <td>179.000000</td>\n",
              "      <td>0.000000</td>\n",
              "      <td>94.575000</td>\n",
              "      <td>0.000000</td>\n",
              "      <td>0.000000</td>\n",
              "      <td>59695.500000</td>\n",
              "    </tr>\n",
              "    <tr>\n",
              "      <th>75%</th>\n",
              "      <td>1.000000</td>\n",
              "      <td>160.000000</td>\n",
              "      <td>2017.000000</td>\n",
              "      <td>38.000000</td>\n",
              "      <td>23.000000</td>\n",
              "      <td>2.000000</td>\n",
              "      <td>3.000000</td>\n",
              "      <td>2.000000</td>\n",
              "      <td>0.000000</td>\n",
              "      <td>0.000000</td>\n",
              "      <td>0.000000</td>\n",
              "      <td>0.000000</td>\n",
              "      <td>0.000000</td>\n",
              "      <td>0.000000</td>\n",
              "      <td>229.000000</td>\n",
              "      <td>270.000000</td>\n",
              "      <td>0.000000</td>\n",
              "      <td>126.000000</td>\n",
              "      <td>0.000000</td>\n",
              "      <td>1.000000</td>\n",
              "      <td>89542.750000</td>\n",
              "    </tr>\n",
              "    <tr>\n",
              "      <th>max</th>\n",
              "      <td>1.000000</td>\n",
              "      <td>737.000000</td>\n",
              "      <td>2017.000000</td>\n",
              "      <td>53.000000</td>\n",
              "      <td>31.000000</td>\n",
              "      <td>19.000000</td>\n",
              "      <td>50.000000</td>\n",
              "      <td>55.000000</td>\n",
              "      <td>10.000000</td>\n",
              "      <td>10.000000</td>\n",
              "      <td>1.000000</td>\n",
              "      <td>26.000000</td>\n",
              "      <td>72.000000</td>\n",
              "      <td>21.000000</td>\n",
              "      <td>535.000000</td>\n",
              "      <td>543.000000</td>\n",
              "      <td>391.000000</td>\n",
              "      <td>5400.000000</td>\n",
              "      <td>8.000000</td>\n",
              "      <td>5.000000</td>\n",
              "      <td>119390.000000</td>\n",
              "    </tr>\n",
              "  </tbody>\n",
              "</table>\n",
              "</div>"
            ],
            "text/plain": [
              "         is_canceled      lead_time  ...  total_of_special_requests             id\n",
              "count  119390.000000  119390.000000  ...              119390.000000  119390.000000\n",
              "mean        0.370416     104.011416  ...                   0.571363   59695.500000\n",
              "std         0.482918     106.863097  ...                   0.792798   34465.068657\n",
              "min         0.000000       0.000000  ...                   0.000000       1.000000\n",
              "25%         0.000000      18.000000  ...                   0.000000   29848.250000\n",
              "50%         0.000000      69.000000  ...                   0.000000   59695.500000\n",
              "75%         1.000000     160.000000  ...                   1.000000   89542.750000\n",
              "max         1.000000     737.000000  ...                   5.000000  119390.000000\n",
              "\n",
              "[8 rows x 21 columns]"
            ]
          },
          "metadata": {
            "tags": []
          },
          "execution_count": 56
        }
      ]
    },
    {
      "cell_type": "code",
      "metadata": {
        "colab": {
          "base_uri": "https://localhost:8080/"
        },
        "id": "CHOlsijF263I",
        "outputId": "5cce33ab-0644-4cf2-8955-2c27a02466fe"
      },
      "source": [
        "df.keys()"
      ],
      "execution_count": null,
      "outputs": [
        {
          "output_type": "execute_result",
          "data": {
            "text/plain": [
              "Index(['hotel', 'is_canceled', 'lead_time', 'arrival_date_year',\n",
              "       'arrival_date_month', 'arrival_date_week_number',\n",
              "       'arrival_date_day_of_month', 'stays_in_weekend_nights',\n",
              "       'stays_in_week_nights', 'adults', 'children', 'babies', 'meal',\n",
              "       'country', 'market_segment', 'distribution_channel',\n",
              "       'is_repeated_guest', 'previous_cancellations',\n",
              "       'previous_bookings_not_canceled', 'reserved_room_type',\n",
              "       'assigned_room_type', 'booking_changes', 'deposit_type', 'agent',\n",
              "       'company', 'days_in_waiting_list', 'customer_type', 'adr',\n",
              "       'required_car_parking_spaces', 'total_of_special_requests',\n",
              "       'reservation_status', 'reservation_status_date', 'id'],\n",
              "      dtype='object')"
            ]
          },
          "metadata": {
            "tags": []
          },
          "execution_count": 57
        }
      ]
    },
    {
      "cell_type": "markdown",
      "metadata": {
        "id": "7sVRy0_b0-Cu"
      },
      "source": [
        "## Explore the Dataset\n"
      ]
    },
    {
      "cell_type": "code",
      "metadata": {
        "colab": {
          "base_uri": "https://localhost:8080/"
        },
        "id": "l3dJGP-x0-qB",
        "outputId": "b279d624-53dd-4e07-cebf-626ff0453097"
      },
      "source": [
        "# Check for null values chain 🧮 .sum() for all T/F values\n",
        "df.isnull().sum() #.sum()"
      ],
      "execution_count": null,
      "outputs": [
        {
          "output_type": "execute_result",
          "data": {
            "text/plain": [
              "hotel                                  0\n",
              "is_canceled                            0\n",
              "lead_time                              0\n",
              "arrival_date_year                      0\n",
              "arrival_date_month                     0\n",
              "arrival_date_week_number               0\n",
              "arrival_date_day_of_month              0\n",
              "stays_in_weekend_nights                0\n",
              "stays_in_week_nights                   0\n",
              "adults                                 0\n",
              "children                               4\n",
              "babies                                 0\n",
              "meal                                   0\n",
              "country                              488\n",
              "market_segment                         0\n",
              "distribution_channel                   0\n",
              "is_repeated_guest                      0\n",
              "previous_cancellations                 0\n",
              "previous_bookings_not_canceled         0\n",
              "reserved_room_type                     0\n",
              "assigned_room_type                     0\n",
              "booking_changes                        0\n",
              "deposit_type                           0\n",
              "agent                              16340\n",
              "company                           112593\n",
              "days_in_waiting_list                   0\n",
              "customer_type                          0\n",
              "adr                                    0\n",
              "required_car_parking_spaces            0\n",
              "total_of_special_requests              0\n",
              "reservation_status                     0\n",
              "reservation_status_date                0\n",
              "id                                     0\n",
              "dtype: int64"
            ]
          },
          "metadata": {
            "tags": []
          },
          "execution_count": 58
        }
      ]
    },
    {
      "cell_type": "markdown",
      "metadata": {
        "id": "33DMK5v-1Y5I"
      },
      "source": [
        "Hotel booking recording shows if this booking without travel agent, booking as individual the columns will shows N/A. So I will leave those null data there for reseach purpose.\n",
        "Due to this data has world-wide hotel booking record, some contries info is missing. I will remove the data has null in country column."
      ]
    },
    {
      "cell_type": "markdown",
      "metadata": {
        "id": "skbSJJHD4eGl"
      },
      "source": [
        "##Cleaning datasets\n"
      ]
    },
    {
      "cell_type": "code",
      "metadata": {
        "colab": {
          "base_uri": "https://localhost:8080/"
        },
        "id": "W8U1Lwmz4qqy",
        "outputId": "14c53d81-17e8-4dea-d6be-d942addfc35c"
      },
      "source": [
        "print(\"The starting size of dataframe is {}\".format(len(df)))\n",
        "\n",
        "# # #drop Nan Rows (Only for null in country column)\n",
        "clean_df=df.dropna(axis=0, subset=('country', ))\n",
        "print(\"The size of the cleaned dataframe is {}\".format(len(clean_df)))\n",
        "##print(clean_df.size)"
      ],
      "execution_count": null,
      "outputs": [
        {
          "output_type": "stream",
          "text": [
            "The starting size of dataframe is 119390\n",
            "The size of the cleaned dataframe is 118902\n"
          ],
          "name": "stdout"
        }
      ]
    },
    {
      "cell_type": "markdown",
      "metadata": {
        "id": "YyYNPs6K75O0"
      },
      "source": [
        "##Making sure under the same reasonable condition\n",
        "1.room Type : A (A has most observation numbers. Code is presented instead of designation for anonymity reasons)\n"
      ]
    },
    {
      "cell_type": "markdown",
      "metadata": {
        "id": "76Ufg6Jg9mVw"
      },
      "source": [
        "2.is_repeat_guest: Using non repeat guest (Due to some reason repeat guest will book the same hotel without consider other conditions, so repeat guest recording will make the test not 'clean'\n"
      ]
    },
    {
      "cell_type": "markdown",
      "metadata": {
        "id": "CoNq25HN9rex"
      },
      "source": [
        "3.week or weekends: All the test run with records for 2 weekend nights."
      ]
    },
    {
      "cell_type": "markdown",
      "metadata": {
        "id": "sPYH7PJV96oE"
      },
      "source": [
        "4.booking is not cancled."
      ]
    },
    {
      "cell_type": "code",
      "metadata": {
        "id": "6o5ktY1LBz_c",
        "colab": {
          "base_uri": "https://localhost:8080/"
        },
        "outputId": "0081c575-9fa7-4ad8-c32e-992ea890363b"
      },
      "source": [
        "clean_df_1=clean_df[(clean_df.stays_in_weekend_nights==2)]\n",
        "clean_df_1.info()"
      ],
      "execution_count": null,
      "outputs": [
        {
          "output_type": "stream",
          "text": [
            "<class 'pandas.core.frame.DataFrame'>\n",
            "Int64Index: 33250 entries, 21 to 119389\n",
            "Data columns (total 33 columns):\n",
            " #   Column                          Non-Null Count  Dtype  \n",
            "---  ------                          --------------  -----  \n",
            " 0   hotel                           33250 non-null  object \n",
            " 1   is_canceled                     33250 non-null  int64  \n",
            " 2   lead_time                       33250 non-null  int64  \n",
            " 3   arrival_date_year               33250 non-null  int64  \n",
            " 4   arrival_date_month              33250 non-null  object \n",
            " 5   arrival_date_week_number        33250 non-null  int64  \n",
            " 6   arrival_date_day_of_month       33250 non-null  int64  \n",
            " 7   stays_in_weekend_nights         33250 non-null  int64  \n",
            " 8   stays_in_week_nights            33250 non-null  int64  \n",
            " 9   adults                          33250 non-null  int64  \n",
            " 10  children                        33249 non-null  float64\n",
            " 11  babies                          33250 non-null  int64  \n",
            " 12  meal                            33250 non-null  object \n",
            " 13  country                         33250 non-null  object \n",
            " 14  market_segment                  33250 non-null  object \n",
            " 15  distribution_channel            33250 non-null  object \n",
            " 16  is_repeated_guest               33250 non-null  int64  \n",
            " 17  previous_cancellations          33250 non-null  int64  \n",
            " 18  previous_bookings_not_canceled  33250 non-null  int64  \n",
            " 19  reserved_room_type              33250 non-null  object \n",
            " 20  assigned_room_type              33250 non-null  object \n",
            " 21  booking_changes                 33250 non-null  int64  \n",
            " 22  deposit_type                    33250 non-null  object \n",
            " 23  agent                           31121 non-null  float64\n",
            " 24  company                         532 non-null    float64\n",
            " 25  days_in_waiting_list            33250 non-null  int64  \n",
            " 26  customer_type                   33250 non-null  object \n",
            " 27  adr                             33250 non-null  float64\n",
            " 28  required_car_parking_spaces     33250 non-null  int64  \n",
            " 29  total_of_special_requests       33250 non-null  int64  \n",
            " 30  reservation_status              33250 non-null  object \n",
            " 31  reservation_status_date         33250 non-null  object \n",
            " 32  id                              33250 non-null  int64  \n",
            "dtypes: float64(4), int64(17), object(12)\n",
            "memory usage: 8.6+ MB\n"
          ],
          "name": "stdout"
        }
      ]
    },
    {
      "cell_type": "code",
      "metadata": {
        "id": "W1hy7JfW-E8Q",
        "colab": {
          "base_uri": "https://localhost:8080/"
        },
        "outputId": "51d85349-bc75-4480-b7bb-c296b4a86825"
      },
      "source": [
        "##Final df \n",
        "\n",
        "clean_df_2=clean_df_1[(clean_df_1.reserved_room_type=='A')&(clean_df_1.is_repeated_guest==0)]\n",
        "\n",
        "\n",
        "clean_df_2.info()\n",
        "clean_df_2.size\n"
      ],
      "execution_count": null,
      "outputs": [
        {
          "output_type": "stream",
          "text": [
            "<class 'pandas.core.frame.DataFrame'>\n",
            "Int64Index: 21106 entries, 21 to 119389\n",
            "Data columns (total 33 columns):\n",
            " #   Column                          Non-Null Count  Dtype  \n",
            "---  ------                          --------------  -----  \n",
            " 0   hotel                           21106 non-null  object \n",
            " 1   is_canceled                     21106 non-null  int64  \n",
            " 2   lead_time                       21106 non-null  int64  \n",
            " 3   arrival_date_year               21106 non-null  int64  \n",
            " 4   arrival_date_month              21106 non-null  object \n",
            " 5   arrival_date_week_number        21106 non-null  int64  \n",
            " 6   arrival_date_day_of_month       21106 non-null  int64  \n",
            " 7   stays_in_weekend_nights         21106 non-null  int64  \n",
            " 8   stays_in_week_nights            21106 non-null  int64  \n",
            " 9   adults                          21106 non-null  int64  \n",
            " 10  children                        21106 non-null  float64\n",
            " 11  babies                          21106 non-null  int64  \n",
            " 12  meal                            21106 non-null  object \n",
            " 13  country                         21106 non-null  object \n",
            " 14  market_segment                  21106 non-null  object \n",
            " 15  distribution_channel            21106 non-null  object \n",
            " 16  is_repeated_guest               21106 non-null  int64  \n",
            " 17  previous_cancellations          21106 non-null  int64  \n",
            " 18  previous_bookings_not_canceled  21106 non-null  int64  \n",
            " 19  reserved_room_type              21106 non-null  object \n",
            " 20  assigned_room_type              21106 non-null  object \n",
            " 21  booking_changes                 21106 non-null  int64  \n",
            " 22  deposit_type                    21106 non-null  object \n",
            " 23  agent                           19842 non-null  float64\n",
            " 24  company                         382 non-null    float64\n",
            " 25  days_in_waiting_list            21106 non-null  int64  \n",
            " 26  customer_type                   21106 non-null  object \n",
            " 27  adr                             21106 non-null  float64\n",
            " 28  required_car_parking_spaces     21106 non-null  int64  \n",
            " 29  total_of_special_requests       21106 non-null  int64  \n",
            " 30  reservation_status              21106 non-null  object \n",
            " 31  reservation_status_date         21106 non-null  object \n",
            " 32  id                              21106 non-null  int64  \n",
            "dtypes: float64(4), int64(17), object(12)\n",
            "memory usage: 5.5+ MB\n"
          ],
          "name": "stdout"
        },
        {
          "output_type": "execute_result",
          "data": {
            "text/plain": [
              "696498"
            ]
          },
          "metadata": {
            "tags": []
          },
          "execution_count": 61
        }
      ]
    },
    {
      "cell_type": "code",
      "metadata": {
        "id": "6WQKKL1F22Zj",
        "colab": {
          "base_uri": "https://localhost:8080/"
        },
        "outputId": "09dc6dc4-da0d-4399-cee5-f7b39e683f5a"
      },
      "source": [
        "final_df=clean_df_2[(clean_df_2.is_canceled==0)]\n",
        "final_df.info()\n",
        "final_df.size"
      ],
      "execution_count": null,
      "outputs": [
        {
          "output_type": "stream",
          "text": [
            "<class 'pandas.core.frame.DataFrame'>\n",
            "Int64Index: 12791 entries, 21 to 119389\n",
            "Data columns (total 33 columns):\n",
            " #   Column                          Non-Null Count  Dtype  \n",
            "---  ------                          --------------  -----  \n",
            " 0   hotel                           12791 non-null  object \n",
            " 1   is_canceled                     12791 non-null  int64  \n",
            " 2   lead_time                       12791 non-null  int64  \n",
            " 3   arrival_date_year               12791 non-null  int64  \n",
            " 4   arrival_date_month              12791 non-null  object \n",
            " 5   arrival_date_week_number        12791 non-null  int64  \n",
            " 6   arrival_date_day_of_month       12791 non-null  int64  \n",
            " 7   stays_in_weekend_nights         12791 non-null  int64  \n",
            " 8   stays_in_week_nights            12791 non-null  int64  \n",
            " 9   adults                          12791 non-null  int64  \n",
            " 10  children                        12791 non-null  float64\n",
            " 11  babies                          12791 non-null  int64  \n",
            " 12  meal                            12791 non-null  object \n",
            " 13  country                         12791 non-null  object \n",
            " 14  market_segment                  12791 non-null  object \n",
            " 15  distribution_channel            12791 non-null  object \n",
            " 16  is_repeated_guest               12791 non-null  int64  \n",
            " 17  previous_cancellations          12791 non-null  int64  \n",
            " 18  previous_bookings_not_canceled  12791 non-null  int64  \n",
            " 19  reserved_room_type              12791 non-null  object \n",
            " 20  assigned_room_type              12791 non-null  object \n",
            " 21  booking_changes                 12791 non-null  int64  \n",
            " 22  deposit_type                    12791 non-null  object \n",
            " 23  agent                           12069 non-null  float64\n",
            " 24  company                         341 non-null    float64\n",
            " 25  days_in_waiting_list            12791 non-null  int64  \n",
            " 26  customer_type                   12791 non-null  object \n",
            " 27  adr                             12791 non-null  float64\n",
            " 28  required_car_parking_spaces     12791 non-null  int64  \n",
            " 29  total_of_special_requests       12791 non-null  int64  \n",
            " 30  reservation_status              12791 non-null  object \n",
            " 31  reservation_status_date         12791 non-null  object \n",
            " 32  id                              12791 non-null  int64  \n",
            "dtypes: float64(4), int64(17), object(12)\n",
            "memory usage: 3.3+ MB\n"
          ],
          "name": "stdout"
        },
        {
          "output_type": "execute_result",
          "data": {
            "text/plain": [
              "422103"
            ]
          },
          "metadata": {
            "tags": []
          },
          "execution_count": 62
        }
      ]
    },
    {
      "cell_type": "markdown",
      "metadata": {
        "id": "0bWljJA-3Ozw"
      },
      "source": [
        "Now dataset is ready for use. 'final_df'"
      ]
    },
    {
      "cell_type": "markdown",
      "metadata": {
        "id": "K4u71QQ_7lSF"
      },
      "source": [
        "## Find out my observation amounts and Hypothesis"
      ]
    },
    {
      "cell_type": "code",
      "metadata": {
        "id": "u4dosTY97qOx",
        "colab": {
          "base_uri": "https://localhost:8080/"
        },
        "outputId": "4f37ca46-6fdc-4dec-ca50-e373b91db4c5"
      },
      "source": [
        "#Hypothesis 1: City hotel is cheaper than resort hotel per night hich in general\n",
        "final_df['hotel'].value_counts()"
      ],
      "execution_count": null,
      "outputs": [
        {
          "output_type": "execute_result",
          "data": {
            "text/plain": [
              "City Hotel      8254\n",
              "Resort Hotel    4537\n",
              "Name: hotel, dtype: int64"
            ]
          },
          "metadata": {
            "tags": []
          },
          "execution_count": 63
        }
      ]
    },
    {
      "cell_type": "code",
      "metadata": {
        "id": "DQdnb74P4wfn"
      },
      "source": [
        "#Ciry hotel has 8254 observations and Resort Hotel has 4537 observations(under same group condition).So its good for run the test."
      ],
      "execution_count": null,
      "outputs": []
    },
    {
      "cell_type": "code",
      "metadata": {
        "colab": {
          "base_uri": "https://localhost:8080/"
        },
        "id": "9M1STT-J4ODM",
        "outputId": "56aaede0-863c-44dd-d20d-772b46891e7a"
      },
      "source": [
        "#Hypothesis 2: Book hotel with special request(s) will cost more than without spcial request\n",
        "final_df['total_of_special_requests'].value_counts()"
      ],
      "execution_count": null,
      "outputs": [
        {
          "output_type": "execute_result",
          "data": {
            "text/plain": [
              "0    6007\n",
              "1    4599\n",
              "2    1765\n",
              "3     361\n",
              "4      52\n",
              "5       7\n",
              "Name: total_of_special_requests, dtype: int64"
            ]
          },
          "metadata": {
            "tags": []
          },
          "execution_count": 65
        }
      ]
    },
    {
      "cell_type": "code",
      "metadata": {
        "id": "TM9Po59U5mSc"
      },
      "source": [
        "#For booking without special request has 6007 observations. With spcial request(s) has 6784 observations. So its good for run the test."
      ],
      "execution_count": null,
      "outputs": []
    },
    {
      "cell_type": "code",
      "metadata": {
        "colab": {
          "base_uri": "https://localhost:8080/"
        },
        "id": "rPHpPO-b5pxg",
        "outputId": "0a12c59f-c296-435b-a3c1-e40ffcfd5f7a"
      },
      "source": [
        "#Hypothesis 3: Booking a hotel with travel agents should be cheaper than booking a hotel directly\n",
        "final_df['distribution_channel'].value_counts()"
      ],
      "execution_count": null,
      "outputs": [
        {
          "output_type": "execute_result",
          "data": {
            "text/plain": [
              "TA/TO        11359\n",
              "Direct        1110\n",
              "Corporate      309\n",
              "GDS             12\n",
              "Undefined        1\n",
              "Name: distribution_channel, dtype: int64"
            ]
          },
          "metadata": {
            "tags": []
          },
          "execution_count": 67
        }
      ]
    },
    {
      "cell_type": "code",
      "metadata": {
        "id": "ZWuAE6XX6aLZ"
      },
      "source": [
        "#For booking with TA/TO has 11359 observations and for directly booking has 1110 observations. So its good for run the test."
      ],
      "execution_count": null,
      "outputs": []
    },
    {
      "cell_type": "markdown",
      "metadata": {
        "id": "1flsXRwUQ3FV"
      },
      "source": [
        "## Analyze the Dataset Hypo 1: City hotel is cheaper than resort hotel per night hich in general"
      ]
    },
    {
      "cell_type": "code",
      "metadata": {
        "colab": {
          "base_uri": "https://localhost:8080/"
        },
        "id": "7JeereNzLaB0",
        "outputId": "99f7f88f-d7cc-4455-a8d5-8f749289f4fd"
      },
      "source": [
        "hypothesis_1_city=final_df[final_df['hotel']=='City Hotel']\n",
        "city_adr=hypothesis_1_city[['id','adr']]\n",
        "\n",
        "city_adr.shape\n",
        "# city_adr.head"
      ],
      "execution_count": null,
      "outputs": [
        {
          "output_type": "execute_result",
          "data": {
            "text/plain": [
              "(8254, 2)"
            ]
          },
          "metadata": {
            "tags": []
          },
          "execution_count": 69
        }
      ]
    },
    {
      "cell_type": "code",
      "metadata": {
        "colab": {
          "base_uri": "https://localhost:8080/"
        },
        "id": "5tUM3ogAPLBy",
        "outputId": "2adc1796-49cd-4fa5-a7a1-563acc902737"
      },
      "source": [
        "hypothesis_1_resort=final_df[final_df['hotel']=='Resort Hotel']\n",
        "resort_adr = hypothesis_1_resort[['id','adr']]\n",
        "resort_adr.shape\n",
        "# resort_adr.head()\n"
      ],
      "execution_count": null,
      "outputs": [
        {
          "output_type": "execute_result",
          "data": {
            "text/plain": [
              "(4537, 2)"
            ]
          },
          "metadata": {
            "tags": []
          },
          "execution_count": 70
        }
      ]
    },
    {
      "cell_type": "code",
      "metadata": {
        "id": "UgEPR3axRjDc"
      },
      "source": [
        "#Both new dataframe for hypo 1 is ready. "
      ],
      "execution_count": null,
      "outputs": []
    },
    {
      "cell_type": "code",
      "metadata": {
        "colab": {
          "base_uri": "https://localhost:8080/",
          "height": 356
        },
        "id": "5DLDCPrrPX5q",
        "outputId": "4f624976-7b13-48a6-c95c-54147c412d59"
      },
      "source": [
        "sns.distplot(city_adr['adr'])\n",
        "# it follows an approx normal dist"
      ],
      "execution_count": null,
      "outputs": [
        {
          "output_type": "stream",
          "text": [
            "/usr/local/lib/python3.6/dist-packages/seaborn/distributions.py:2557: FutureWarning: `distplot` is a deprecated function and will be removed in a future version. Please adapt your code to use either `displot` (a figure-level function with similar flexibility) or `histplot` (an axes-level function for histograms).\n",
            "  warnings.warn(msg, FutureWarning)\n"
          ],
          "name": "stderr"
        },
        {
          "output_type": "execute_result",
          "data": {
            "text/plain": [
              "<matplotlib.axes._subplots.AxesSubplot at 0x7ff17a35fc18>"
            ]
          },
          "metadata": {
            "tags": []
          },
          "execution_count": 72
        },
        {
          "output_type": "display_data",
          "data": {
            "image/png": "[encoded data removed]",
            "text/plain": [
              "<Figure size 432x288 with 1 Axes>"
            ]
          },
          "metadata": {
            "tags": []
          }
        }
      ]
    },
    {
      "cell_type": "code",
      "metadata": {
        "colab": {
          "base_uri": "https://localhost:8080/",
          "height": 356
        },
        "id": "iK1_hVYTQqdm",
        "outputId": "536b2ad1-3d2c-40b0-d323-d3a59f33c0f6"
      },
      "source": [
        "sns.distplot(resort_adr['adr'])\n",
        "# it follows an approx normal dist"
      ],
      "execution_count": null,
      "outputs": [
        {
          "output_type": "stream",
          "text": [
            "/usr/local/lib/python3.6/dist-packages/seaborn/distributions.py:2557: FutureWarning: `distplot` is a deprecated function and will be removed in a future version. Please adapt your code to use either `displot` (a figure-level function with similar flexibility) or `histplot` (an axes-level function for histograms).\n",
            "  warnings.warn(msg, FutureWarning)\n"
          ],
          "name": "stderr"
        },
        {
          "output_type": "execute_result",
          "data": {
            "text/plain": [
              "<matplotlib.axes._subplots.AxesSubplot at 0x7ff17a0f0198>"
            ]
          },
          "metadata": {
            "tags": []
          },
          "execution_count": 73
        },
        {
          "output_type": "display_data",
          "data": {
            "image/png": "[encoded data removed]",
            "text/plain": [
              "<Figure size 432x288 with 1 Axes>"
            ]
          },
          "metadata": {
            "tags": []
          }
        }
      ]
    },
    {
      "cell_type": "code",
      "metadata": {
        "colab": {
          "base_uri": "https://localhost:8080/",
          "height": 297
        },
        "id": "r0e_9z3sKkr4",
        "outputId": "f045a1a9-99c4-42a9-a774-f9c224ef57b8"
      },
      "source": [
        "city_adr.describe()"
      ],
      "execution_count": null,
      "outputs": [
        {
          "output_type": "execute_result",
          "data": {
            "text/html": [
              "<div>\n",
              "<style scoped>\n",
              "    .dataframe tbody tr th:only-of-type {\n",
              "        vertical-align: middle;\n",
              "    }\n",
              "\n",
              "    .dataframe tbody tr th {\n",
              "        vertical-align: top;\n",
              "    }\n",
              "\n",
              "    .dataframe thead th {\n",
              "        text-align: right;\n",
              "    }\n",
              "</style>\n",
              "<table border=\"1\" class=\"dataframe\">\n",
              "  <thead>\n",
              "    <tr style=\"text-align: right;\">\n",
              "      <th></th>\n",
              "      <th>id</th>\n",
              "      <th>adr</th>\n",
              "    </tr>\n",
              "  </thead>\n",
              "  <tbody>\n",
              "    <tr>\n",
              "      <th>count</th>\n",
              "      <td>8254.000000</td>\n",
              "      <td>8254.000000</td>\n",
              "    </tr>\n",
              "    <tr>\n",
              "      <th>mean</th>\n",
              "      <td>91676.593773</td>\n",
              "      <td>96.590061</td>\n",
              "    </tr>\n",
              "    <tr>\n",
              "      <th>std</th>\n",
              "      <td>22374.685203</td>\n",
              "      <td>29.636303</td>\n",
              "    </tr>\n",
              "    <tr>\n",
              "      <th>min</th>\n",
              "      <td>40086.000000</td>\n",
              "      <td>0.000000</td>\n",
              "    </tr>\n",
              "    <tr>\n",
              "      <th>25%</th>\n",
              "      <td>83962.250000</td>\n",
              "      <td>76.000000</td>\n",
              "    </tr>\n",
              "    <tr>\n",
              "      <th>50%</th>\n",
              "      <td>96920.000000</td>\n",
              "      <td>91.505000</td>\n",
              "    </tr>\n",
              "    <tr>\n",
              "      <th>75%</th>\n",
              "      <td>108357.750000</td>\n",
              "      <td>112.957500</td>\n",
              "    </tr>\n",
              "    <tr>\n",
              "      <th>max</th>\n",
              "      <td>119390.000000</td>\n",
              "      <td>300.000000</td>\n",
              "    </tr>\n",
              "  </tbody>\n",
              "</table>\n",
              "</div>"
            ],
            "text/plain": [
              "                  id          adr\n",
              "count    8254.000000  8254.000000\n",
              "mean    91676.593773    96.590061\n",
              "std     22374.685203    29.636303\n",
              "min     40086.000000     0.000000\n",
              "25%     83962.250000    76.000000\n",
              "50%     96920.000000    91.505000\n",
              "75%    108357.750000   112.957500\n",
              "max    119390.000000   300.000000"
            ]
          },
          "metadata": {
            "tags": []
          },
          "execution_count": 74
        }
      ]
    },
    {
      "cell_type": "code",
      "metadata": {
        "colab": {
          "base_uri": "https://localhost:8080/",
          "height": 297
        },
        "id": "Sw4LpzxcR9tp",
        "outputId": "2b907d9c-3c2f-4bc7-e0c6-5998c1160ed6"
      },
      "source": [
        "resort_adr.describe()"
      ],
      "execution_count": null,
      "outputs": [
        {
          "output_type": "execute_result",
          "data": {
            "text/html": [
              "<div>\n",
              "<style scoped>\n",
              "    .dataframe tbody tr th:only-of-type {\n",
              "        vertical-align: middle;\n",
              "    }\n",
              "\n",
              "    .dataframe tbody tr th {\n",
              "        vertical-align: top;\n",
              "    }\n",
              "\n",
              "    .dataframe thead th {\n",
              "        text-align: right;\n",
              "    }\n",
              "</style>\n",
              "<table border=\"1\" class=\"dataframe\">\n",
              "  <thead>\n",
              "    <tr style=\"text-align: right;\">\n",
              "      <th></th>\n",
              "      <th>id</th>\n",
              "      <th>adr</th>\n",
              "    </tr>\n",
              "  </thead>\n",
              "  <tbody>\n",
              "    <tr>\n",
              "      <th>count</th>\n",
              "      <td>4537.000000</td>\n",
              "      <td>4537.000000</td>\n",
              "    </tr>\n",
              "    <tr>\n",
              "      <th>mean</th>\n",
              "      <td>24692.225039</td>\n",
              "      <td>82.652277</td>\n",
              "    </tr>\n",
              "    <tr>\n",
              "      <th>std</th>\n",
              "      <td>11215.256179</td>\n",
              "      <td>49.876023</td>\n",
              "    </tr>\n",
              "    <tr>\n",
              "      <th>min</th>\n",
              "      <td>22.000000</td>\n",
              "      <td>0.000000</td>\n",
              "    </tr>\n",
              "    <tr>\n",
              "      <th>25%</th>\n",
              "      <td>17696.000000</td>\n",
              "      <td>46.000000</td>\n",
              "    </tr>\n",
              "    <tr>\n",
              "      <th>50%</th>\n",
              "      <td>26565.000000</td>\n",
              "      <td>67.000000</td>\n",
              "    </tr>\n",
              "    <tr>\n",
              "      <th>75%</th>\n",
              "      <td>34468.000000</td>\n",
              "      <td>107.000000</td>\n",
              "    </tr>\n",
              "    <tr>\n",
              "      <th>max</th>\n",
              "      <td>40056.000000</td>\n",
              "      <td>337.000000</td>\n",
              "    </tr>\n",
              "  </tbody>\n",
              "</table>\n",
              "</div>"
            ],
            "text/plain": [
              "                 id          adr\n",
              "count   4537.000000  4537.000000\n",
              "mean   24692.225039    82.652277\n",
              "std    11215.256179    49.876023\n",
              "min       22.000000     0.000000\n",
              "25%    17696.000000    46.000000\n",
              "50%    26565.000000    67.000000\n",
              "75%    34468.000000   107.000000\n",
              "max    40056.000000   337.000000"
            ]
          },
          "metadata": {
            "tags": []
          },
          "execution_count": 75
        }
      ]
    },
    {
      "cell_type": "code",
      "metadata": {
        "colab": {
          "base_uri": "https://localhost:8080/",
          "height": 372
        },
        "id": "7kfY799PTone",
        "outputId": "fd07388b-c46d-4cd1-e93e-9ac1c4e3a337"
      },
      "source": [
        "sns.boxplot(city_adr[\"adr\"])\n",
        "plt.title('City Hotel average daily rate')"
      ],
      "execution_count": null,
      "outputs": [
        {
          "output_type": "stream",
          "text": [
            "/usr/local/lib/python3.6/dist-packages/seaborn/_decorators.py:43: FutureWarning: Pass the following variable as a keyword arg: x. From version 0.12, the only valid positional argument will be `data`, and passing other arguments without an explicit keyword will result in an error or misinterpretation.\n",
            "  FutureWarning\n"
          ],
          "name": "stderr"
        },
        {
          "output_type": "execute_result",
          "data": {
            "text/plain": [
              "Text(0.5, 1.0, 'City Hotel average daily rate')"
            ]
          },
          "metadata": {
            "tags": []
          },
          "execution_count": 106
        },
        {
          "output_type": "display_data",
          "data": {
            "image/png": "[encoded data removed]",
            "text/plain": [
              "<Figure size 432x288 with 1 Axes>"
            ]
          },
          "metadata": {
            "tags": []
          }
        }
      ]
    },
    {
      "cell_type": "code",
      "metadata": {
        "colab": {
          "base_uri": "https://localhost:8080/"
        },
        "id": "AqXjduzaskwm",
        "outputId": "e92d140c-ee94-4143-c2ea-c374c928455c"
      },
      "source": [
        "## 95% confidence interval\n",
        "city_inter=city_adr['adr']\n",
        "confidence_level = 0.95\n",
        "degrees_freedom = city_inter.size - 1\n",
        "sample_mean = np.mean(city_inter)\n",
        "sample_standard_error = scipy.stats.sem(city_inter)\n",
        "\n",
        "confidence_interval = scipy.stats.t.interval(confidence_level, degrees_freedom, sample_mean, sample_standard_error)\n",
        "\n",
        "\n",
        "print(confidence_interval)"
      ],
      "execution_count": null,
      "outputs": [
        {
          "output_type": "stream",
          "text": [
            "(95.95061500241786, 97.22950615096326)\n"
          ],
          "name": "stdout"
        }
      ]
    },
    {
      "cell_type": "code",
      "metadata": {
        "colab": {
          "base_uri": "https://localhost:8080/",
          "height": 372
        },
        "id": "A1DZMbaLclUO",
        "outputId": "69c890e0-fe66-4bb9-b56f-12c340c1401d"
      },
      "source": [
        "sns.boxplot(resort_adr[\"adr\"])\n",
        "plt.title('Resort Hotel average daily rate')"
      ],
      "execution_count": null,
      "outputs": [
        {
          "output_type": "stream",
          "text": [
            "/usr/local/lib/python3.6/dist-packages/seaborn/_decorators.py:43: FutureWarning: Pass the following variable as a keyword arg: x. From version 0.12, the only valid positional argument will be `data`, and passing other arguments without an explicit keyword will result in an error or misinterpretation.\n",
            "  FutureWarning\n"
          ],
          "name": "stderr"
        },
        {
          "output_type": "execute_result",
          "data": {
            "text/plain": [
              "Text(0.5, 1.0, 'Resort Hotel average daily rate')"
            ]
          },
          "metadata": {
            "tags": []
          },
          "execution_count": 108
        },
        {
          "output_type": "display_data",
          "data": {
            "image/png": "[encoded data removed]",
            "text/plain": [
              "<Figure size 432x288 with 1 Axes>"
            ]
          },
          "metadata": {
            "tags": []
          }
        }
      ]
    },
    {
      "cell_type": "code",
      "metadata": {
        "colab": {
          "base_uri": "https://localhost:8080/"
        },
        "id": "fuCeyLfwsve6",
        "outputId": "354cce2d-572a-43d6-ddb5-9c834bbd19dc"
      },
      "source": [
        "## 95% confidence interval\n",
        "resort_inter=resort_adr['adr']\n",
        "confidence_level = 0.95\n",
        "degrees_freedom = resort_inter.size - 1\n",
        "sample_mean = np.mean(resort_inter)\n",
        "sample_standard_error = scipy.stats.sem(resort_inter)\n",
        "\n",
        "confidence_interval = scipy.stats.t.interval(confidence_level, degrees_freedom, sample_mean, sample_standard_error)\n",
        "\n",
        "\n",
        "print(confidence_interval)"
      ],
      "execution_count": null,
      "outputs": [
        {
          "output_type": "stream",
          "text": [
            "(81.20059508460156, 84.10395858522423)\n"
          ],
          "name": "stdout"
        }
      ]
    },
    {
      "cell_type": "code",
      "metadata": {
        "colab": {
          "base_uri": "https://localhost:8080/"
        },
        "id": "0tR7hr0wsRuD",
        "outputId": "d99dacc9-8aba-4566-efcd-7d778d08aa1e"
      },
      "source": [
        ""
      ],
      "execution_count": null,
      "outputs": [
        {
          "output_type": "stream",
          "text": [
            "(95.95061500241786, 97.22950615096326)\n"
          ],
          "name": "stdout"
        }
      ]
    },
    {
      "cell_type": "code",
      "metadata": {
        "id": "XcA3R3AVcwrP"
      },
      "source": [
        "##The describe and boxplot showing each hotel's price condition."
      ],
      "execution_count": null,
      "outputs": []
    },
    {
      "cell_type": "code",
      "metadata": {
        "colab": {
          "base_uri": "https://localhost:8080/"
        },
        "id": "qrlBYaRJJWO5",
        "outputId": "04d8eb6e-fe5f-44e5-fb2b-31a29acc97b0"
      },
      "source": [
        "#RUN the T_TEST \n",
        "stats.ttest_ind(city_adr['adr'], resort_adr['adr'])"
      ],
      "execution_count": null,
      "outputs": [
        {
          "output_type": "execute_result",
          "data": {
            "text/plain": [
              "Ttest_indResult(statistic=19.81112013904392, pvalue=4.634749057013586e-86)"
            ]
          },
          "metadata": {
            "tags": []
          },
          "execution_count": 79
        }
      ]
    },
    {
      "cell_type": "markdown",
      "metadata": {
        "id": "6hFIheWZSXwL"
      },
      "source": [
        "Yes, there is a stat sig difference at the avg hotel price per night between city hotel and resort hotel (b/c **t-stat>1.96** **pval < 0.05**)\n"
      ]
    },
    {
      "cell_type": "markdown",
      "metadata": {
        "id": "0fN17VZhceE9"
      },
      "source": [
        "Conclusion 1: Under same condition, booking city hotel is expensive than resort. For people who has travel plan in the furture, choosing a city hotel is a money-saving option."
      ]
    },
    {
      "cell_type": "markdown",
      "metadata": {
        "id": "ojMTUasrdYyr"
      },
      "source": [
        "## Analyze the Dataset Hypo 2: Book hotel with special request(s) will cost more than without spcial request"
      ]
    },
    {
      "cell_type": "code",
      "metadata": {
        "colab": {
          "base_uri": "https://localhost:8080/"
        },
        "id": "nlySG36AdZ-N",
        "outputId": "14eba490-5617-4399-c156-af5633341025"
      },
      "source": [
        "final_df['total_of_special_requests'].value_counts()"
      ],
      "execution_count": null,
      "outputs": [
        {
          "output_type": "execute_result",
          "data": {
            "text/plain": [
              "0    6007\n",
              "1    4599\n",
              "2    1765\n",
              "3     361\n",
              "4      52\n",
              "5       7\n",
              "Name: total_of_special_requests, dtype: int64"
            ]
          },
          "metadata": {
            "tags": []
          },
          "execution_count": 80
        }
      ]
    },
    {
      "cell_type": "code",
      "metadata": {
        "colab": {
          "base_uri": "https://localhost:8080/"
        },
        "id": "VgZYGPt-d0-q",
        "outputId": "7ed8928e-2c8b-4735-aa53-779f802feed7"
      },
      "source": [
        "hypothesis_2_WO=final_df[final_df['total_of_special_requests']==0]\n",
        "without_request=hypothesis_2_WO[['id','adr']]\n",
        "\n",
        "without_request.shape\n",
        "# city_adr.head"
      ],
      "execution_count": null,
      "outputs": [
        {
          "output_type": "execute_result",
          "data": {
            "text/plain": [
              "(6007, 2)"
            ]
          },
          "metadata": {
            "tags": []
          },
          "execution_count": 81
        }
      ]
    },
    {
      "cell_type": "code",
      "metadata": {
        "colab": {
          "base_uri": "https://localhost:8080/"
        },
        "id": "HstOr_6feCdI",
        "outputId": "ccced8c8-aad4-411a-9228-e0680635bfc6"
      },
      "source": [
        "hypothesis_2_With=final_df[final_df['total_of_special_requests']>0]\n",
        "with_request=hypothesis_2_With[['id','adr']]\n",
        "\n",
        "with_request.shape\n",
        "# city_adr.head"
      ],
      "execution_count": null,
      "outputs": [
        {
          "output_type": "execute_result",
          "data": {
            "text/plain": [
              "(6784, 2)"
            ]
          },
          "metadata": {
            "tags": []
          },
          "execution_count": 82
        }
      ]
    },
    {
      "cell_type": "code",
      "metadata": {
        "colab": {
          "base_uri": "https://localhost:8080/",
          "height": 356
        },
        "id": "45K8QVnyeWv8",
        "outputId": "346d841a-d7f1-4bb9-8953-36dd7ce5eedc"
      },
      "source": [
        "sns.distplot(without_request['adr'])"
      ],
      "execution_count": null,
      "outputs": [
        {
          "output_type": "stream",
          "text": [
            "/usr/local/lib/python3.6/dist-packages/seaborn/distributions.py:2557: FutureWarning: `distplot` is a deprecated function and will be removed in a future version. Please adapt your code to use either `displot` (a figure-level function with similar flexibility) or `histplot` (an axes-level function for histograms).\n",
            "  warnings.warn(msg, FutureWarning)\n"
          ],
          "name": "stderr"
        },
        {
          "output_type": "execute_result",
          "data": {
            "text/plain": [
              "<matplotlib.axes._subplots.AxesSubplot at 0x7ff1713fd470>"
            ]
          },
          "metadata": {
            "tags": []
          },
          "execution_count": 83
        },
        {
          "output_type": "display_data",
          "data": {
            "image/png": "[encoded data removed]",
            "text/plain": [
              "<Figure size 432x288 with 1 Axes>"
            ]
          },
          "metadata": {
            "tags": []
          }
        }
      ]
    },
    {
      "cell_type": "code",
      "metadata": {
        "id": "JKz9hJ8OeZ6v"
      },
      "source": [
        "# it follows an approx normal dist"
      ],
      "execution_count": null,
      "outputs": []
    },
    {
      "cell_type": "code",
      "metadata": {
        "colab": {
          "base_uri": "https://localhost:8080/",
          "height": 360
        },
        "id": "lfDeXTmeecJz",
        "outputId": "b1042818-bf64-4a4f-f9ce-7ba6e07db0fc"
      },
      "source": [
        "sns.distplot(with_request['adr'])"
      ],
      "execution_count": null,
      "outputs": [
        {
          "output_type": "stream",
          "text": [
            "/usr/local/lib/python3.6/dist-packages/seaborn/distributions.py:2557: FutureWarning: `distplot` is a deprecated function and will be removed in a future version. Please adapt your code to use either `displot` (a figure-level function with similar flexibility) or `histplot` (an axes-level function for histograms).\n",
            "  warnings.warn(msg, FutureWarning)\n"
          ],
          "name": "stderr"
        },
        {
          "output_type": "execute_result",
          "data": {
            "text/plain": [
              "<matplotlib.axes._subplots.AxesSubplot at 0x7ff1713637f0>"
            ]
          },
          "metadata": {
            "tags": []
          },
          "execution_count": 85
        },
        {
          "output_type": "display_data",
          "data": {
            "image/png": "[encoded data removed]",
            "text/plain": [
              "<Figure size 432x288 with 1 Axes>"
            ]
          },
          "metadata": {
            "tags": []
          }
        }
      ]
    },
    {
      "cell_type": "code",
      "metadata": {
        "id": "TPik-_AOegB7"
      },
      "source": [
        "# it follows an approx normal dist"
      ],
      "execution_count": null,
      "outputs": []
    },
    {
      "cell_type": "code",
      "metadata": {
        "colab": {
          "base_uri": "https://localhost:8080/",
          "height": 297
        },
        "id": "vDqhHovZei73",
        "outputId": "1ba7a22c-911a-4094-a682-a2bf1de0e04d"
      },
      "source": [
        "without_request.describe()"
      ],
      "execution_count": null,
      "outputs": [
        {
          "output_type": "execute_result",
          "data": {
            "text/html": [
              "<div>\n",
              "<style scoped>\n",
              "    .dataframe tbody tr th:only-of-type {\n",
              "        vertical-align: middle;\n",
              "    }\n",
              "\n",
              "    .dataframe tbody tr th {\n",
              "        vertical-align: top;\n",
              "    }\n",
              "\n",
              "    .dataframe thead th {\n",
              "        text-align: right;\n",
              "    }\n",
              "</style>\n",
              "<table border=\"1\" class=\"dataframe\">\n",
              "  <thead>\n",
              "    <tr style=\"text-align: right;\">\n",
              "      <th></th>\n",
              "      <th>id</th>\n",
              "      <th>adr</th>\n",
              "    </tr>\n",
              "  </thead>\n",
              "  <tbody>\n",
              "    <tr>\n",
              "      <th>count</th>\n",
              "      <td>6007.000000</td>\n",
              "      <td>6007.000000</td>\n",
              "    </tr>\n",
              "    <tr>\n",
              "      <th>mean</th>\n",
              "      <td>62937.420842</td>\n",
              "      <td>81.974323</td>\n",
              "    </tr>\n",
              "    <tr>\n",
              "      <th>std</th>\n",
              "      <td>36334.069781</td>\n",
              "      <td>35.931037</td>\n",
              "    </tr>\n",
              "    <tr>\n",
              "      <th>min</th>\n",
              "      <td>29.000000</td>\n",
              "      <td>0.000000</td>\n",
              "    </tr>\n",
              "    <tr>\n",
              "      <th>25%</th>\n",
              "      <td>30900.500000</td>\n",
              "      <td>61.465000</td>\n",
              "    </tr>\n",
              "    <tr>\n",
              "      <th>50%</th>\n",
              "      <td>50400.000000</td>\n",
              "      <td>77.110000</td>\n",
              "    </tr>\n",
              "    <tr>\n",
              "      <th>75%</th>\n",
              "      <td>97779.000000</td>\n",
              "      <td>99.000000</td>\n",
              "    </tr>\n",
              "    <tr>\n",
              "      <th>max</th>\n",
              "      <td>119389.000000</td>\n",
              "      <td>300.000000</td>\n",
              "    </tr>\n",
              "  </tbody>\n",
              "</table>\n",
              "</div>"
            ],
            "text/plain": [
              "                  id          adr\n",
              "count    6007.000000  6007.000000\n",
              "mean    62937.420842    81.974323\n",
              "std     36334.069781    35.931037\n",
              "min        29.000000     0.000000\n",
              "25%     30900.500000    61.465000\n",
              "50%     50400.000000    77.110000\n",
              "75%     97779.000000    99.000000\n",
              "max    119389.000000   300.000000"
            ]
          },
          "metadata": {
            "tags": []
          },
          "execution_count": 87
        }
      ]
    },
    {
      "cell_type": "code",
      "metadata": {
        "colab": {
          "base_uri": "https://localhost:8080/",
          "height": 297
        },
        "id": "iAdx45l1exFT",
        "outputId": "6bfdf59b-0f5d-41c5-e18c-1e8562f2f7df"
      },
      "source": [
        "with_request.describe()"
      ],
      "execution_count": null,
      "outputs": [
        {
          "output_type": "execute_result",
          "data": {
            "text/html": [
              "<div>\n",
              "<style scoped>\n",
              "    .dataframe tbody tr th:only-of-type {\n",
              "        vertical-align: middle;\n",
              "    }\n",
              "\n",
              "    .dataframe tbody tr th {\n",
              "        vertical-align: top;\n",
              "    }\n",
              "\n",
              "    .dataframe thead th {\n",
              "        text-align: right;\n",
              "    }\n",
              "</style>\n",
              "<table border=\"1\" class=\"dataframe\">\n",
              "  <thead>\n",
              "    <tr style=\"text-align: right;\">\n",
              "      <th></th>\n",
              "      <th>id</th>\n",
              "      <th>adr</th>\n",
              "    </tr>\n",
              "  </thead>\n",
              "  <tbody>\n",
              "    <tr>\n",
              "      <th>count</th>\n",
              "      <td>6784.000000</td>\n",
              "      <td>6784.000000</td>\n",
              "    </tr>\n",
              "    <tr>\n",
              "      <th>mean</th>\n",
              "      <td>72326.377211</td>\n",
              "      <td>100.210492</td>\n",
              "    </tr>\n",
              "    <tr>\n",
              "      <th>std</th>\n",
              "      <td>37676.977353</td>\n",
              "      <td>38.944835</td>\n",
              "    </tr>\n",
              "    <tr>\n",
              "      <th>min</th>\n",
              "      <td>22.000000</td>\n",
              "      <td>0.000000</td>\n",
              "    </tr>\n",
              "    <tr>\n",
              "      <th>25%</th>\n",
              "      <td>34762.500000</td>\n",
              "      <td>74.800000</td>\n",
              "    </tr>\n",
              "    <tr>\n",
              "      <th>50%</th>\n",
              "      <td>89064.500000</td>\n",
              "      <td>96.025000</td>\n",
              "    </tr>\n",
              "    <tr>\n",
              "      <th>75%</th>\n",
              "      <td>104578.750000</td>\n",
              "      <td>120.337500</td>\n",
              "    </tr>\n",
              "    <tr>\n",
              "      <th>max</th>\n",
              "      <td>119390.000000</td>\n",
              "      <td>337.000000</td>\n",
              "    </tr>\n",
              "  </tbody>\n",
              "</table>\n",
              "</div>"
            ],
            "text/plain": [
              "                  id          adr\n",
              "count    6784.000000  6784.000000\n",
              "mean    72326.377211   100.210492\n",
              "std     37676.977353    38.944835\n",
              "min        22.000000     0.000000\n",
              "25%     34762.500000    74.800000\n",
              "50%     89064.500000    96.025000\n",
              "75%    104578.750000   120.337500\n",
              "max    119390.000000   337.000000"
            ]
          },
          "metadata": {
            "tags": []
          },
          "execution_count": 88
        }
      ]
    },
    {
      "cell_type": "code",
      "metadata": {
        "colab": {
          "base_uri": "https://localhost:8080/",
          "height": 372
        },
        "id": "0ZolJNlQfDpL",
        "outputId": "89b8e556-bc7a-42e6-9a32-a77fc98663af"
      },
      "source": [
        "sns.boxplot(without_request[\"adr\"])\n",
        "plt.title('Booking Without special request')"
      ],
      "execution_count": null,
      "outputs": [
        {
          "output_type": "stream",
          "text": [
            "/usr/local/lib/python3.6/dist-packages/seaborn/_decorators.py:43: FutureWarning: Pass the following variable as a keyword arg: x. From version 0.12, the only valid positional argument will be `data`, and passing other arguments without an explicit keyword will result in an error or misinterpretation.\n",
            "  FutureWarning\n"
          ],
          "name": "stderr"
        },
        {
          "output_type": "execute_result",
          "data": {
            "text/plain": [
              "Text(0.5, 1.0, 'Booking Without special request')"
            ]
          },
          "metadata": {
            "tags": []
          },
          "execution_count": 140
        },
        {
          "output_type": "display_data",
          "data": {
            "image/png": "[encoded data removed]",
            "text/plain": [
              "<Figure size 432x288 with 1 Axes>"
            ]
          },
          "metadata": {
            "tags": []
          }
        }
      ]
    },
    {
      "cell_type": "code",
      "metadata": {
        "colab": {
          "base_uri": "https://localhost:8080/"
        },
        "id": "H8TGYNdIuaez",
        "outputId": "3e7e0f17-4800-47cc-b1eb-669098d8d016"
      },
      "source": [
        "## 95% confidence interval\n",
        "wo_inter=without_request['adr']\n",
        "confidence_level = 0.95\n",
        "degrees_freedom = wo_inter.size - 1\n",
        "sample_mean = np.mean(wo_inter)\n",
        "sample_standard_error = scipy.stats.sem(wo_inter)\n",
        "\n",
        "confidence_interval = scipy.stats.t.interval(confidence_level, degrees_freedom, sample_mean, sample_standard_error)\n",
        "\n",
        "\n",
        "print(confidence_interval)"
      ],
      "execution_count": null,
      "outputs": [
        {
          "output_type": "stream",
          "text": [
            "(81.06550604003532, 82.88314053895586)\n"
          ],
          "name": "stdout"
        }
      ]
    },
    {
      "cell_type": "code",
      "metadata": {
        "colab": {
          "base_uri": "https://localhost:8080/",
          "height": 372
        },
        "id": "aggyjxDEfKJp",
        "outputId": "2bc99752-c09c-4387-a8ea-c3767c853f0b"
      },
      "source": [
        "sns.boxplot(with_request[\"adr\"])\n",
        "plt.title('Booking With special request')"
      ],
      "execution_count": null,
      "outputs": [
        {
          "output_type": "stream",
          "text": [
            "/usr/local/lib/python3.6/dist-packages/seaborn/_decorators.py:43: FutureWarning: Pass the following variable as a keyword arg: x. From version 0.12, the only valid positional argument will be `data`, and passing other arguments without an explicit keyword will result in an error or misinterpretation.\n",
            "  FutureWarning\n"
          ],
          "name": "stderr"
        },
        {
          "output_type": "execute_result",
          "data": {
            "text/plain": [
              "Text(0.5, 1.0, 'Booking With special request')"
            ]
          },
          "metadata": {
            "tags": []
          },
          "execution_count": 141
        },
        {
          "output_type": "display_data",
          "data": {
            "image/png": "[encoded data removed]",
            "text/plain": [
              "<Figure size 432x288 with 1 Axes>"
            ]
          },
          "metadata": {
            "tags": []
          }
        }
      ]
    },
    {
      "cell_type": "code",
      "metadata": {
        "colab": {
          "base_uri": "https://localhost:8080/"
        },
        "id": "eHo-kGc_uh11",
        "outputId": "8476c262-99e4-402a-bf38-2f653cc61897"
      },
      "source": [
        "## 95% confidence interval\n",
        "w_inter=with_request['adr']\n",
        "confidence_level = 0.95\n",
        "degrees_freedom = w_inter.size - 1\n",
        "sample_mean = np.mean(w_inter)\n",
        "sample_standard_error = scipy.stats.sem(w_inter)\n",
        "\n",
        "confidence_interval = scipy.stats.t.interval(confidence_level, degrees_freedom, sample_mean, sample_standard_error)\n",
        "\n",
        "\n",
        "print(confidence_interval)"
      ],
      "execution_count": null,
      "outputs": [
        {
          "output_type": "stream",
          "text": [
            "(99.28359305026075, 101.13739161955164)\n"
          ],
          "name": "stdout"
        }
      ]
    },
    {
      "cell_type": "code",
      "metadata": {
        "id": "Q6MCfNN3gRNQ"
      },
      "source": [
        "##The describe and boxplot showing each hotel's price condition for with and without special requests ."
      ],
      "execution_count": null,
      "outputs": []
    },
    {
      "cell_type": "code",
      "metadata": {
        "colab": {
          "base_uri": "https://localhost:8080/"
        },
        "id": "xP-7iEE7gZ2S",
        "outputId": "bbfbaf96-6821-441b-cbe2-ea15112c580b"
      },
      "source": [
        "#RUN the T_TEST \n",
        "stats.ttest_ind(without_request['adr'], with_request['adr'])"
      ],
      "execution_count": null,
      "outputs": [
        {
          "output_type": "execute_result",
          "data": {
            "text/plain": [
              "Ttest_indResult(statistic=-27.405134215358963, pvalue=9.96406127577746e-161)"
            ]
          },
          "metadata": {
            "tags": []
          },
          "execution_count": 92
        }
      ]
    },
    {
      "cell_type": "markdown",
      "metadata": {
        "id": "Vzaz621Qg8Wb"
      },
      "source": [
        "Yes, there is a stat sig difference at the avg hotel price per night between with spcial request(s) and without special request(s) (b/c **t-stat>1.96** **pval < 0.05**)"
      ]
    },
    {
      "cell_type": "markdown",
      "metadata": {
        "id": "Hxp21dP7daaW"
      },
      "source": [
        "Conclusion 2: Booking hotel with special requests will costs more. If its possible, try to booking witout special requests will save money for customers. And for Hospitality Management, should focuse on how to marketing to make customers booking with more spcial requets. Then could have more income."
      ]
    },
    {
      "cell_type": "markdown",
      "metadata": {
        "id": "gpUSbsce14v6"
      },
      "source": [
        "## Analyze the Dataset Hypo 3:  Booking a hotel with travel agents should be cheaper than booking a hotel directly"
      ]
    },
    {
      "cell_type": "code",
      "metadata": {
        "colab": {
          "base_uri": "https://localhost:8080/"
        },
        "id": "HNzelP-B3uGr",
        "outputId": "da7b3db5-082c-48de-adb4-ad7a3039e193"
      },
      "source": [
        "hypothesis_3_Direct=final_df[final_df['distribution_channel']=='Direct']\n",
        "direct=hypothesis_3_Direct[['id','adr']]\n",
        "\n",
        "direct.shape"
      ],
      "execution_count": null,
      "outputs": [
        {
          "output_type": "execute_result",
          "data": {
            "text/plain": [
              "(1110, 2)"
            ]
          },
          "metadata": {
            "tags": []
          },
          "execution_count": 93
        }
      ]
    },
    {
      "cell_type": "code",
      "metadata": {
        "colab": {
          "base_uri": "https://localhost:8080/"
        },
        "id": "w_iWHdpg5d06",
        "outputId": "8c06ec16-f4be-4c28-d315-c8489e1d93ee"
      },
      "source": [
        "hypothesis_3_ta_to=final_df[final_df['distribution_channel']=='TA/TO']\n",
        "ta_to=hypothesis_3_ta_to[['id','adr']]\n",
        "\n",
        "ta_to.shape"
      ],
      "execution_count": null,
      "outputs": [
        {
          "output_type": "execute_result",
          "data": {
            "text/plain": [
              "(11359, 2)"
            ]
          },
          "metadata": {
            "tags": []
          },
          "execution_count": 94
        }
      ]
    },
    {
      "cell_type": "code",
      "metadata": {
        "colab": {
          "base_uri": "https://localhost:8080/",
          "height": 356
        },
        "id": "Nk5xRrth61ux",
        "outputId": "ac24192c-4b13-46c2-fdb8-8e247712f401"
      },
      "source": [
        "sns.distplot(direct['adr'])"
      ],
      "execution_count": null,
      "outputs": [
        {
          "output_type": "stream",
          "text": [
            "/usr/local/lib/python3.6/dist-packages/seaborn/distributions.py:2557: FutureWarning: `distplot` is a deprecated function and will be removed in a future version. Please adapt your code to use either `displot` (a figure-level function with similar flexibility) or `histplot` (an axes-level function for histograms).\n",
            "  warnings.warn(msg, FutureWarning)\n"
          ],
          "name": "stderr"
        },
        {
          "output_type": "execute_result",
          "data": {
            "text/plain": [
              "<matplotlib.axes._subplots.AxesSubplot at 0x7ff171199e80>"
            ]
          },
          "metadata": {
            "tags": []
          },
          "execution_count": 95
        },
        {
          "output_type": "display_data",
          "data": {
            "image/png": "[encoded data removed]",
            "text/plain": [
              "<Figure size 432x288 with 1 Axes>"
            ]
          },
          "metadata": {
            "tags": []
          }
        }
      ]
    },
    {
      "cell_type": "code",
      "metadata": {
        "id": "AVHD3FBn64ZL"
      },
      "source": [
        "# it follows an approx normal dist"
      ],
      "execution_count": null,
      "outputs": []
    },
    {
      "cell_type": "code",
      "metadata": {
        "colab": {
          "base_uri": "https://localhost:8080/",
          "height": 358
        },
        "id": "nddGTgvM7Bax",
        "outputId": "d7a6f312-2eb4-4968-9000-fb7a31bb3a9b"
      },
      "source": [
        "sns.distplot(ta_to['adr'])"
      ],
      "execution_count": null,
      "outputs": [
        {
          "output_type": "stream",
          "text": [
            "/usr/local/lib/python3.6/dist-packages/seaborn/distributions.py:2557: FutureWarning: `distplot` is a deprecated function and will be removed in a future version. Please adapt your code to use either `displot` (a figure-level function with similar flexibility) or `histplot` (an axes-level function for histograms).\n",
            "  warnings.warn(msg, FutureWarning)\n"
          ],
          "name": "stderr"
        },
        {
          "output_type": "execute_result",
          "data": {
            "text/plain": [
              "<matplotlib.axes._subplots.AxesSubplot at 0x7ff1711996a0>"
            ]
          },
          "metadata": {
            "tags": []
          },
          "execution_count": 97
        },
        {
          "output_type": "display_data",
          "data": {
            "image/png": "[encoded data removed]",
            "text/plain": [
              "<Figure size 432x288 with 1 Axes>"
            ]
          },
          "metadata": {
            "tags": []
          }
        }
      ]
    },
    {
      "cell_type": "code",
      "metadata": {
        "id": "9orHGnCd7E1o"
      },
      "source": [
        "# it follows an approx normal dist"
      ],
      "execution_count": null,
      "outputs": []
    },
    {
      "cell_type": "code",
      "metadata": {
        "colab": {
          "base_uri": "https://localhost:8080/",
          "height": 297
        },
        "id": "8IfhZhaR7FaX",
        "outputId": "9a139ece-c280-4ed4-fcfb-2f967170e5e0"
      },
      "source": [
        "direct.describe()"
      ],
      "execution_count": null,
      "outputs": [
        {
          "output_type": "execute_result",
          "data": {
            "text/html": [
              "<div>\n",
              "<style scoped>\n",
              "    .dataframe tbody tr th:only-of-type {\n",
              "        vertical-align: middle;\n",
              "    }\n",
              "\n",
              "    .dataframe tbody tr th {\n",
              "        vertical-align: top;\n",
              "    }\n",
              "\n",
              "    .dataframe thead th {\n",
              "        text-align: right;\n",
              "    }\n",
              "</style>\n",
              "<table border=\"1\" class=\"dataframe\">\n",
              "  <thead>\n",
              "    <tr style=\"text-align: right;\">\n",
              "      <th></th>\n",
              "      <th>id</th>\n",
              "      <th>adr</th>\n",
              "    </tr>\n",
              "  </thead>\n",
              "  <tbody>\n",
              "    <tr>\n",
              "      <th>count</th>\n",
              "      <td>1110.000000</td>\n",
              "      <td>1110.000000</td>\n",
              "    </tr>\n",
              "    <tr>\n",
              "      <th>mean</th>\n",
              "      <td>61634.431532</td>\n",
              "      <td>102.387441</td>\n",
              "    </tr>\n",
              "    <tr>\n",
              "      <th>std</th>\n",
              "      <td>39123.767872</td>\n",
              "      <td>48.486115</td>\n",
              "    </tr>\n",
              "    <tr>\n",
              "      <th>min</th>\n",
              "      <td>22.000000</td>\n",
              "      <td>0.000000</td>\n",
              "    </tr>\n",
              "    <tr>\n",
              "      <th>25%</th>\n",
              "      <td>26691.250000</td>\n",
              "      <td>74.212500</td>\n",
              "    </tr>\n",
              "    <tr>\n",
              "      <th>50%</th>\n",
              "      <td>46776.500000</td>\n",
              "      <td>98.300000</td>\n",
              "    </tr>\n",
              "    <tr>\n",
              "      <th>75%</th>\n",
              "      <td>100004.250000</td>\n",
              "      <td>123.277500</td>\n",
              "    </tr>\n",
              "    <tr>\n",
              "      <th>max</th>\n",
              "      <td>119382.000000</td>\n",
              "      <td>296.330000</td>\n",
              "    </tr>\n",
              "  </tbody>\n",
              "</table>\n",
              "</div>"
            ],
            "text/plain": [
              "                  id          adr\n",
              "count    1110.000000  1110.000000\n",
              "mean    61634.431532   102.387441\n",
              "std     39123.767872    48.486115\n",
              "min        22.000000     0.000000\n",
              "25%     26691.250000    74.212500\n",
              "50%     46776.500000    98.300000\n",
              "75%    100004.250000   123.277500\n",
              "max    119382.000000   296.330000"
            ]
          },
          "metadata": {
            "tags": []
          },
          "execution_count": 99
        }
      ]
    },
    {
      "cell_type": "code",
      "metadata": {
        "colab": {
          "base_uri": "https://localhost:8080/",
          "height": 297
        },
        "id": "xBCcGdmY7JUr",
        "outputId": "5a7dad68-5144-4306-d425-a4fbc5518f2a"
      },
      "source": [
        "ta_to.describe()"
      ],
      "execution_count": null,
      "outputs": [
        {
          "output_type": "execute_result",
          "data": {
            "text/html": [
              "<div>\n",
              "<style scoped>\n",
              "    .dataframe tbody tr th:only-of-type {\n",
              "        vertical-align: middle;\n",
              "    }\n",
              "\n",
              "    .dataframe tbody tr th {\n",
              "        vertical-align: top;\n",
              "    }\n",
              "\n",
              "    .dataframe thead th {\n",
              "        text-align: right;\n",
              "    }\n",
              "</style>\n",
              "<table border=\"1\" class=\"dataframe\">\n",
              "  <thead>\n",
              "    <tr style=\"text-align: right;\">\n",
              "      <th></th>\n",
              "      <th>id</th>\n",
              "      <th>adr</th>\n",
              "    </tr>\n",
              "  </thead>\n",
              "  <tbody>\n",
              "    <tr>\n",
              "      <th>count</th>\n",
              "      <td>11359.000000</td>\n",
              "      <td>11359.000000</td>\n",
              "    </tr>\n",
              "    <tr>\n",
              "      <th>mean</th>\n",
              "      <td>68767.402500</td>\n",
              "      <td>91.169807</td>\n",
              "    </tr>\n",
              "    <tr>\n",
              "      <th>std</th>\n",
              "      <td>37001.465402</td>\n",
              "      <td>37.358379</td>\n",
              "    </tr>\n",
              "    <tr>\n",
              "      <th>min</th>\n",
              "      <td>29.000000</td>\n",
              "      <td>0.000000</td>\n",
              "    </tr>\n",
              "    <tr>\n",
              "      <th>25%</th>\n",
              "      <td>34349.500000</td>\n",
              "      <td>67.150000</td>\n",
              "    </tr>\n",
              "    <tr>\n",
              "      <th>50%</th>\n",
              "      <td>83673.000000</td>\n",
              "      <td>87.000000</td>\n",
              "    </tr>\n",
              "    <tr>\n",
              "      <th>75%</th>\n",
              "      <td>102221.500000</td>\n",
              "      <td>112.500000</td>\n",
              "    </tr>\n",
              "    <tr>\n",
              "      <th>max</th>\n",
              "      <td>119390.000000</td>\n",
              "      <td>337.000000</td>\n",
              "    </tr>\n",
              "  </tbody>\n",
              "</table>\n",
              "</div>"
            ],
            "text/plain": [
              "                  id           adr\n",
              "count   11359.000000  11359.000000\n",
              "mean    68767.402500     91.169807\n",
              "std     37001.465402     37.358379\n",
              "min        29.000000      0.000000\n",
              "25%     34349.500000     67.150000\n",
              "50%     83673.000000     87.000000\n",
              "75%    102221.500000    112.500000\n",
              "max    119390.000000    337.000000"
            ]
          },
          "metadata": {
            "tags": []
          },
          "execution_count": 100
        }
      ]
    },
    {
      "cell_type": "code",
      "metadata": {
        "colab": {
          "base_uri": "https://localhost:8080/",
          "height": 372
        },
        "id": "FW3BpMYA7N3x",
        "outputId": "43f06393-0653-43ae-acae-0ba4227a5e00"
      },
      "source": [
        "sns.boxplot(direct[\"adr\"])\n",
        "plt.title('Booking Directly')"
      ],
      "execution_count": null,
      "outputs": [
        {
          "output_type": "stream",
          "text": [
            "/usr/local/lib/python3.6/dist-packages/seaborn/_decorators.py:43: FutureWarning: Pass the following variable as a keyword arg: x. From version 0.12, the only valid positional argument will be `data`, and passing other arguments without an explicit keyword will result in an error or misinterpretation.\n",
            "  FutureWarning\n"
          ],
          "name": "stderr"
        },
        {
          "output_type": "execute_result",
          "data": {
            "text/plain": [
              "Text(0.5, 1.0, 'Booking Directly')"
            ]
          },
          "metadata": {
            "tags": []
          },
          "execution_count": 142
        },
        {
          "output_type": "display_data",
          "data": {
            "image/png": "[encoded data removed]",
            "text/plain": [
              "<Figure size 432x288 with 1 Axes>"
            ]
          },
          "metadata": {
            "tags": []
          }
        }
      ]
    },
    {
      "cell_type": "code",
      "metadata": {
        "colab": {
          "base_uri": "https://localhost:8080/"
        },
        "id": "ip9hhj_ZxKWn",
        "outputId": "8c19cc87-cf6c-41d3-e528-8c926249bbf6"
      },
      "source": [
        "## 95% confidence interval\n",
        "d_inter=direct['adr']\n",
        "confidence_level = 0.95\n",
        "degrees_freedom = d_inter.size - 1\n",
        "sample_mean = np.mean(d_inter)\n",
        "sample_standard_error = scipy.stats.sem(d_inter)\n",
        "\n",
        "confidence_interval = scipy.stats.t.interval(confidence_level, degrees_freedom, sample_mean, sample_standard_error)\n",
        "\n",
        "\n",
        "print(confidence_interval)"
      ],
      "execution_count": null,
      "outputs": [
        {
          "output_type": "stream",
          "text": [
            "(99.53196731313406, 105.24291556974887)\n"
          ],
          "name": "stdout"
        }
      ]
    },
    {
      "cell_type": "code",
      "metadata": {
        "colab": {
          "base_uri": "https://localhost:8080/",
          "height": 372
        },
        "id": "MH37GxcE7QB6",
        "outputId": "09b841c2-72cd-4d50-be61-73f22f77a998"
      },
      "source": [
        "sns.boxplot(ta_to[\"adr\"])\n",
        "plt.title('Booking with Travel Agent')"
      ],
      "execution_count": null,
      "outputs": [
        {
          "output_type": "stream",
          "text": [
            "/usr/local/lib/python3.6/dist-packages/seaborn/_decorators.py:43: FutureWarning: Pass the following variable as a keyword arg: x. From version 0.12, the only valid positional argument will be `data`, and passing other arguments without an explicit keyword will result in an error or misinterpretation.\n",
            "  FutureWarning\n"
          ],
          "name": "stderr"
        },
        {
          "output_type": "execute_result",
          "data": {
            "text/plain": [
              "Text(0.5, 1.0, 'Booking with Travel Agent')"
            ]
          },
          "metadata": {
            "tags": []
          },
          "execution_count": 143
        },
        {
          "output_type": "display_data",
          "data": {
            "image/png": "[encoded data removed]",
            "text/plain": [
              "<Figure size 432x288 with 1 Axes>"
            ]
          },
          "metadata": {
            "tags": []
          }
        }
      ]
    },
    {
      "cell_type": "code",
      "metadata": {
        "colab": {
          "base_uri": "https://localhost:8080/"
        },
        "id": "gj5qKnMtxVpF",
        "outputId": "3e27f308-8253-43e1-a3a3-ca8df98f1b2c"
      },
      "source": [
        "## 95% confidence interval\n",
        "ta_inter=ta_to['adr']\n",
        "confidence_level = 0.95\n",
        "degrees_freedom = ta_inter.size - 1\n",
        "sample_mean = np.mean(ta_inter)\n",
        "sample_standard_error = scipy.stats.sem(ta_inter)\n",
        "\n",
        "confidence_interval = scipy.stats.t.interval(confidence_level, degrees_freedom, sample_mean, sample_standard_error)\n",
        "\n",
        "\n",
        "print(confidence_interval)"
      ],
      "execution_count": null,
      "outputs": [
        {
          "output_type": "stream",
          "text": [
            "(90.48271921787723, 91.8568951847996)\n"
          ],
          "name": "stdout"
        }
      ]
    },
    {
      "cell_type": "code",
      "metadata": {
        "id": "95zivBwx7UuX"
      },
      "source": [
        "##The describe and boxplot showing each hotel's price condition for booking directly and booking with travel agent ."
      ],
      "execution_count": null,
      "outputs": []
    },
    {
      "cell_type": "code",
      "metadata": {
        "colab": {
          "base_uri": "https://localhost:8080/"
        },
        "id": "5FM9qiH67afS",
        "outputId": "57fbaaf9-05ff-42b3-f71d-9181986dac3d"
      },
      "source": [
        "#RUN the T_TEST \n",
        "stats.ttest_ind(direct['adr'], ta_to['adr'])"
      ],
      "execution_count": null,
      "outputs": [
        {
          "output_type": "execute_result",
          "data": {
            "text/plain": [
              "Ttest_indResult(statistic=9.27032047251543, pvalue=2.1580307925329293e-20)"
            ]
          },
          "metadata": {
            "tags": []
          },
          "execution_count": 104
        }
      ]
    },
    {
      "cell_type": "markdown",
      "metadata": {
        "id": "lI0dpcxu7jdU"
      },
      "source": [
        "Yes, there is a stat sig difference at the avg hotel price per night between booking directly and booking with travel agent (b/c **t-stat>1.96** **pval < 0.05**)"
      ]
    },
    {
      "cell_type": "markdown",
      "metadata": {
        "id": "0FoIaoizenXw"
      },
      "source": [
        "Conclusion 3: Booking hotel with Travel agent is a good options for having a lower price.So tring to find a travel agent to book your next trip will be a better option instead of booking directly. "
      ]
    }
  ]
}